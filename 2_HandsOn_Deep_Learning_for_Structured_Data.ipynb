{
  "cells": [
    {
      "cell_type": "markdown",
      "id": "a34c275b08da8be8",
      "metadata": {
        "id": "a34c275b08da8be8"
      },
      "source": [
        "# Exercise: Deep Learning for Structured Data\n",
        "\n",
        "In this exercise we will implement a neural network more or less from scratch using numpy for matrix operations. Clearly, we would never be doing this in practice but rather use state-of-the-art software libraries.\n",
        "Still, implementing a neural network with its training routine by hand deepens our understanding and demystifies the technology."
      ]
    },
    {
      "cell_type": "markdown",
      "id": "172e0240-b756-44f8-a7f6-51809a44711b",
      "metadata": {
        "id": "172e0240-b756-44f8-a7f6-51809a44711b"
      },
      "source": [
        "#### Importing libraries and tools"
      ]
    },
    {
      "cell_type": "code",
      "id": "f7b9cbe8-f5b6-4715-b67e-a48224b07e83",
      "metadata": {
        "scrolled": true,
        "id": "f7b9cbe8-f5b6-4715-b67e-a48224b07e83",
        "outputId": "2a75efbc-6c8d-4efe-bb48-17a37ad6fef6",
        "colab": {
          "base_uri": "https://localhost:8080/"
        }
      },
      "source": [
        "!pip install numpy medmnist pandas scipy matplotlib"
      ],
      "outputs": [
        {
          "output_type": "stream",
          "name": "stdout",
          "text": [
            "Requirement already satisfied: numpy in /usr/local/lib/python3.11/dist-packages (2.0.2)\n",
            "Collecting medmnist\n",
            "  Downloading medmnist-3.0.2-py3-none-any.whl.metadata (14 kB)\n",
            "Requirement already satisfied: pandas in /usr/local/lib/python3.11/dist-packages (2.2.2)\n",
            "Requirement already satisfied: scipy in /usr/local/lib/python3.11/dist-packages (1.15.3)\n",
            "Requirement already satisfied: matplotlib in /usr/local/lib/python3.11/dist-packages (3.10.0)\n",
            "Requirement already satisfied: scikit-learn in /usr/local/lib/python3.11/dist-packages (from medmnist) (1.6.1)\n",
            "Requirement already satisfied: scikit-image in /usr/local/lib/python3.11/dist-packages (from medmnist) (0.25.2)\n",
            "Requirement already satisfied: tqdm in /usr/local/lib/python3.11/dist-packages (from medmnist) (4.67.1)\n",
            "Requirement already satisfied: Pillow in /usr/local/lib/python3.11/dist-packages (from medmnist) (11.2.1)\n",
            "Collecting fire (from medmnist)\n",
            "  Downloading fire-0.7.0.tar.gz (87 kB)\n",
            "\u001b[2K     \u001b[90m━━━━━━━━━━━━━━━━━━━━━━━━━━━━━━━━━━━━━━━━\u001b[0m \u001b[32m87.2/87.2 kB\u001b[0m \u001b[31m4.8 MB/s\u001b[0m eta \u001b[36m0:00:00\u001b[0m\n",
            "\u001b[?25h  Preparing metadata (setup.py) ... \u001b[?25l\u001b[?25hdone\n",
            "Requirement already satisfied: torch in /usr/local/lib/python3.11/dist-packages (from medmnist) (2.6.0+cu124)\n",
            "Requirement already satisfied: torchvision in /usr/local/lib/python3.11/dist-packages (from medmnist) (0.21.0+cu124)\n",
            "Requirement already satisfied: python-dateutil>=2.8.2 in /usr/local/lib/python3.11/dist-packages (from pandas) (2.9.0.post0)\n",
            "Requirement already satisfied: pytz>=2020.1 in /usr/local/lib/python3.11/dist-packages (from pandas) (2025.2)\n",
            "Requirement already satisfied: tzdata>=2022.7 in /usr/local/lib/python3.11/dist-packages (from pandas) (2025.2)\n",
            "Requirement already satisfied: contourpy>=1.0.1 in /usr/local/lib/python3.11/dist-packages (from matplotlib) (1.3.2)\n",
            "Requirement already satisfied: cycler>=0.10 in /usr/local/lib/python3.11/dist-packages (from matplotlib) (0.12.1)\n",
            "Requirement already satisfied: fonttools>=4.22.0 in /usr/local/lib/python3.11/dist-packages (from matplotlib) (4.58.0)\n",
            "Requirement already satisfied: kiwisolver>=1.3.1 in /usr/local/lib/python3.11/dist-packages (from matplotlib) (1.4.8)\n",
            "Requirement already satisfied: packaging>=20.0 in /usr/local/lib/python3.11/dist-packages (from matplotlib) (24.2)\n",
            "Requirement already satisfied: pyparsing>=2.3.1 in /usr/local/lib/python3.11/dist-packages (from matplotlib) (3.2.3)\n",
            "Requirement already satisfied: six>=1.5 in /usr/local/lib/python3.11/dist-packages (from python-dateutil>=2.8.2->pandas) (1.17.0)\n",
            "Requirement already satisfied: termcolor in /usr/local/lib/python3.11/dist-packages (from fire->medmnist) (3.1.0)\n",
            "Requirement already satisfied: networkx>=3.0 in /usr/local/lib/python3.11/dist-packages (from scikit-image->medmnist) (3.4.2)\n",
            "Requirement already satisfied: imageio!=2.35.0,>=2.33 in /usr/local/lib/python3.11/dist-packages (from scikit-image->medmnist) (2.37.0)\n",
            "Requirement already satisfied: tifffile>=2022.8.12 in /usr/local/lib/python3.11/dist-packages (from scikit-image->medmnist) (2025.5.10)\n",
            "Requirement already satisfied: lazy-loader>=0.4 in /usr/local/lib/python3.11/dist-packages (from scikit-image->medmnist) (0.4)\n",
            "Requirement already satisfied: joblib>=1.2.0 in /usr/local/lib/python3.11/dist-packages (from scikit-learn->medmnist) (1.5.0)\n",
            "Requirement already satisfied: threadpoolctl>=3.1.0 in /usr/local/lib/python3.11/dist-packages (from scikit-learn->medmnist) (3.6.0)\n",
            "Requirement already satisfied: filelock in /usr/local/lib/python3.11/dist-packages (from torch->medmnist) (3.18.0)\n",
            "Requirement already satisfied: typing-extensions>=4.10.0 in /usr/local/lib/python3.11/dist-packages (from torch->medmnist) (4.13.2)\n",
            "Requirement already satisfied: jinja2 in /usr/local/lib/python3.11/dist-packages (from torch->medmnist) (3.1.6)\n",
            "Requirement already satisfied: fsspec in /usr/local/lib/python3.11/dist-packages (from torch->medmnist) (2025.3.2)\n",
            "Collecting nvidia-cuda-nvrtc-cu12==12.4.127 (from torch->medmnist)\n",
            "  Downloading nvidia_cuda_nvrtc_cu12-12.4.127-py3-none-manylinux2014_x86_64.whl.metadata (1.5 kB)\n",
            "Collecting nvidia-cuda-runtime-cu12==12.4.127 (from torch->medmnist)\n",
            "  Downloading nvidia_cuda_runtime_cu12-12.4.127-py3-none-manylinux2014_x86_64.whl.metadata (1.5 kB)\n",
            "Collecting nvidia-cuda-cupti-cu12==12.4.127 (from torch->medmnist)\n",
            "  Downloading nvidia_cuda_cupti_cu12-12.4.127-py3-none-manylinux2014_x86_64.whl.metadata (1.6 kB)\n",
            "Collecting nvidia-cudnn-cu12==9.1.0.70 (from torch->medmnist)\n",
            "  Downloading nvidia_cudnn_cu12-9.1.0.70-py3-none-manylinux2014_x86_64.whl.metadata (1.6 kB)\n",
            "Collecting nvidia-cublas-cu12==12.4.5.8 (from torch->medmnist)\n",
            "  Downloading nvidia_cublas_cu12-12.4.5.8-py3-none-manylinux2014_x86_64.whl.metadata (1.5 kB)\n",
            "Collecting nvidia-cufft-cu12==11.2.1.3 (from torch->medmnist)\n",
            "  Downloading nvidia_cufft_cu12-11.2.1.3-py3-none-manylinux2014_x86_64.whl.metadata (1.5 kB)\n",
            "Collecting nvidia-curand-cu12==10.3.5.147 (from torch->medmnist)\n",
            "  Downloading nvidia_curand_cu12-10.3.5.147-py3-none-manylinux2014_x86_64.whl.metadata (1.5 kB)\n",
            "Collecting nvidia-cusolver-cu12==11.6.1.9 (from torch->medmnist)\n",
            "  Downloading nvidia_cusolver_cu12-11.6.1.9-py3-none-manylinux2014_x86_64.whl.metadata (1.6 kB)\n",
            "Collecting nvidia-cusparse-cu12==12.3.1.170 (from torch->medmnist)\n",
            "  Downloading nvidia_cusparse_cu12-12.3.1.170-py3-none-manylinux2014_x86_64.whl.metadata (1.6 kB)\n",
            "Requirement already satisfied: nvidia-cusparselt-cu12==0.6.2 in /usr/local/lib/python3.11/dist-packages (from torch->medmnist) (0.6.2)\n",
            "Requirement already satisfied: nvidia-nccl-cu12==2.21.5 in /usr/local/lib/python3.11/dist-packages (from torch->medmnist) (2.21.5)\n",
            "Requirement already satisfied: nvidia-nvtx-cu12==12.4.127 in /usr/local/lib/python3.11/dist-packages (from torch->medmnist) (12.4.127)\n",
            "Collecting nvidia-nvjitlink-cu12==12.4.127 (from torch->medmnist)\n",
            "  Downloading nvidia_nvjitlink_cu12-12.4.127-py3-none-manylinux2014_x86_64.whl.metadata (1.5 kB)\n",
            "Requirement already satisfied: triton==3.2.0 in /usr/local/lib/python3.11/dist-packages (from torch->medmnist) (3.2.0)\n",
            "Requirement already satisfied: sympy==1.13.1 in /usr/local/lib/python3.11/dist-packages (from torch->medmnist) (1.13.1)\n",
            "Requirement already satisfied: mpmath<1.4,>=1.1.0 in /usr/local/lib/python3.11/dist-packages (from sympy==1.13.1->torch->medmnist) (1.3.0)\n",
            "Requirement already satisfied: MarkupSafe>=2.0 in /usr/local/lib/python3.11/dist-packages (from jinja2->torch->medmnist) (3.0.2)\n",
            "Downloading medmnist-3.0.2-py3-none-any.whl (25 kB)\n",
            "Downloading nvidia_cublas_cu12-12.4.5.8-py3-none-manylinux2014_x86_64.whl (363.4 MB)\n",
            "\u001b[2K   \u001b[90m━━━━━━━━━━━━━━━━━━━━━━━━━━━━━━━━━━━━━━━━\u001b[0m \u001b[32m363.4/363.4 MB\u001b[0m \u001b[31m3.6 MB/s\u001b[0m eta \u001b[36m0:00:00\u001b[0m\n",
            "\u001b[?25hDownloading nvidia_cuda_cupti_cu12-12.4.127-py3-none-manylinux2014_x86_64.whl (13.8 MB)\n",
            "\u001b[2K   \u001b[90m━━━━━━━━━━━━━━━━━━━━━━━━━━━━━━━━━━━━━━━━\u001b[0m \u001b[32m13.8/13.8 MB\u001b[0m \u001b[31m27.7 MB/s\u001b[0m eta \u001b[36m0:00:00\u001b[0m\n",
            "\u001b[?25hDownloading nvidia_cuda_nvrtc_cu12-12.4.127-py3-none-manylinux2014_x86_64.whl (24.6 MB)\n",
            "\u001b[2K   \u001b[90m━━━━━━━━━━━━━━━━━━━━━━━━━━━━━━━━━━━━━━━━\u001b[0m \u001b[32m24.6/24.6 MB\u001b[0m \u001b[31m31.1 MB/s\u001b[0m eta \u001b[36m0:00:00\u001b[0m\n",
            "\u001b[?25hDownloading nvidia_cuda_runtime_cu12-12.4.127-py3-none-manylinux2014_x86_64.whl (883 kB)\n",
            "\u001b[2K   \u001b[90m━━━━━━━━━━━━━━━━━━━━━━━━━━━━━━━━━━━━━━━━\u001b[0m \u001b[32m883.7/883.7 kB\u001b[0m \u001b[31m24.5 MB/s\u001b[0m eta \u001b[36m0:00:00\u001b[0m\n",
            "\u001b[?25hDownloading nvidia_cudnn_cu12-9.1.0.70-py3-none-manylinux2014_x86_64.whl (664.8 MB)\n",
            "\u001b[2K   \u001b[90m━━━━━━━━━━━━━━━━━━━━━━━━━━━━━━━━━━━━━━━━\u001b[0m \u001b[32m664.8/664.8 MB\u001b[0m \u001b[31m1.3 MB/s\u001b[0m eta \u001b[36m0:00:00\u001b[0m\n",
            "\u001b[?25hDownloading nvidia_cufft_cu12-11.2.1.3-py3-none-manylinux2014_x86_64.whl (211.5 MB)\n",
            "\u001b[2K   \u001b[90m━━━━━━━━━━━━━━━━━━━━━━━━━━━━━━━━━━━━━━━━\u001b[0m \u001b[32m211.5/211.5 MB\u001b[0m \u001b[31m5.8 MB/s\u001b[0m eta \u001b[36m0:00:00\u001b[0m\n",
            "\u001b[?25hDownloading nvidia_curand_cu12-10.3.5.147-py3-none-manylinux2014_x86_64.whl (56.3 MB)\n",
            "\u001b[2K   \u001b[90m━━━━━━━━━━━━━━━━━━━━━━━━━━━━━━━━━━━━━━━━\u001b[0m \u001b[32m56.3/56.3 MB\u001b[0m \u001b[31m12.2 MB/s\u001b[0m eta \u001b[36m0:00:00\u001b[0m\n",
            "\u001b[?25hDownloading nvidia_cusolver_cu12-11.6.1.9-py3-none-manylinux2014_x86_64.whl (127.9 MB)\n",
            "\u001b[2K   \u001b[90m━━━━━━━━━━━━━━━━━━━━━━━━━━━━━━━━━━━━━━━━\u001b[0m \u001b[32m127.9/127.9 MB\u001b[0m \u001b[31m7.3 MB/s\u001b[0m eta \u001b[36m0:00:00\u001b[0m\n",
            "\u001b[?25hDownloading nvidia_cusparse_cu12-12.3.1.170-py3-none-manylinux2014_x86_64.whl (207.5 MB)\n",
            "\u001b[2K   \u001b[90m━━━━━━━━━━━━━━━━━━━━━━━━━━━━━━━━━━━━━━━━\u001b[0m \u001b[32m207.5/207.5 MB\u001b[0m \u001b[31m5.4 MB/s\u001b[0m eta \u001b[36m0:00:00\u001b[0m\n",
            "\u001b[?25hDownloading nvidia_nvjitlink_cu12-12.4.127-py3-none-manylinux2014_x86_64.whl (21.1 MB)\n",
            "\u001b[2K   \u001b[90m━━━━━━━━━━━━━━━━━━━━━━━━━━━━━━━━━━━━━━━━\u001b[0m \u001b[32m21.1/21.1 MB\u001b[0m \u001b[31m34.2 MB/s\u001b[0m eta \u001b[36m0:00:00\u001b[0m\n",
            "\u001b[?25hBuilding wheels for collected packages: fire\n",
            "  Building wheel for fire (setup.py) ... \u001b[?25l\u001b[?25hdone\n",
            "  Created wheel for fire: filename=fire-0.7.0-py3-none-any.whl size=114249 sha256=e92c9d928fd75f62a6086df6d200332ae5ec33021ec77a3adde0861fc84c8052\n",
            "  Stored in directory: /root/.cache/pip/wheels/46/54/24/1624fd5b8674eb1188623f7e8e17cdf7c0f6c24b609dfb8a89\n",
            "Successfully built fire\n",
            "Installing collected packages: nvidia-nvjitlink-cu12, nvidia-curand-cu12, nvidia-cufft-cu12, nvidia-cuda-runtime-cu12, nvidia-cuda-nvrtc-cu12, nvidia-cuda-cupti-cu12, nvidia-cublas-cu12, fire, nvidia-cusparse-cu12, nvidia-cudnn-cu12, nvidia-cusolver-cu12, medmnist\n",
            "  Attempting uninstall: nvidia-nvjitlink-cu12\n",
            "    Found existing installation: nvidia-nvjitlink-cu12 12.5.82\n",
            "    Uninstalling nvidia-nvjitlink-cu12-12.5.82:\n",
            "      Successfully uninstalled nvidia-nvjitlink-cu12-12.5.82\n",
            "  Attempting uninstall: nvidia-curand-cu12\n",
            "    Found existing installation: nvidia-curand-cu12 10.3.6.82\n",
            "    Uninstalling nvidia-curand-cu12-10.3.6.82:\n",
            "      Successfully uninstalled nvidia-curand-cu12-10.3.6.82\n",
            "  Attempting uninstall: nvidia-cufft-cu12\n",
            "    Found existing installation: nvidia-cufft-cu12 11.2.3.61\n",
            "    Uninstalling nvidia-cufft-cu12-11.2.3.61:\n",
            "      Successfully uninstalled nvidia-cufft-cu12-11.2.3.61\n",
            "  Attempting uninstall: nvidia-cuda-runtime-cu12\n",
            "    Found existing installation: nvidia-cuda-runtime-cu12 12.5.82\n",
            "    Uninstalling nvidia-cuda-runtime-cu12-12.5.82:\n",
            "      Successfully uninstalled nvidia-cuda-runtime-cu12-12.5.82\n",
            "  Attempting uninstall: nvidia-cuda-nvrtc-cu12\n",
            "    Found existing installation: nvidia-cuda-nvrtc-cu12 12.5.82\n",
            "    Uninstalling nvidia-cuda-nvrtc-cu12-12.5.82:\n",
            "      Successfully uninstalled nvidia-cuda-nvrtc-cu12-12.5.82\n",
            "  Attempting uninstall: nvidia-cuda-cupti-cu12\n",
            "    Found existing installation: nvidia-cuda-cupti-cu12 12.5.82\n",
            "    Uninstalling nvidia-cuda-cupti-cu12-12.5.82:\n",
            "      Successfully uninstalled nvidia-cuda-cupti-cu12-12.5.82\n",
            "  Attempting uninstall: nvidia-cublas-cu12\n",
            "    Found existing installation: nvidia-cublas-cu12 12.5.3.2\n",
            "    Uninstalling nvidia-cublas-cu12-12.5.3.2:\n",
            "      Successfully uninstalled nvidia-cublas-cu12-12.5.3.2\n",
            "  Attempting uninstall: nvidia-cusparse-cu12\n",
            "    Found existing installation: nvidia-cusparse-cu12 12.5.1.3\n",
            "    Uninstalling nvidia-cusparse-cu12-12.5.1.3:\n",
            "      Successfully uninstalled nvidia-cusparse-cu12-12.5.1.3\n",
            "  Attempting uninstall: nvidia-cudnn-cu12\n",
            "    Found existing installation: nvidia-cudnn-cu12 9.3.0.75\n",
            "    Uninstalling nvidia-cudnn-cu12-9.3.0.75:\n",
            "      Successfully uninstalled nvidia-cudnn-cu12-9.3.0.75\n",
            "  Attempting uninstall: nvidia-cusolver-cu12\n",
            "    Found existing installation: nvidia-cusolver-cu12 11.6.3.83\n",
            "    Uninstalling nvidia-cusolver-cu12-11.6.3.83:\n",
            "      Successfully uninstalled nvidia-cusolver-cu12-11.6.3.83\n",
            "Successfully installed fire-0.7.0 medmnist-3.0.2 nvidia-cublas-cu12-12.4.5.8 nvidia-cuda-cupti-cu12-12.4.127 nvidia-cuda-nvrtc-cu12-12.4.127 nvidia-cuda-runtime-cu12-12.4.127 nvidia-cudnn-cu12-9.1.0.70 nvidia-cufft-cu12-11.2.1.3 nvidia-curand-cu12-10.3.5.147 nvidia-cusolver-cu12-11.6.1.9 nvidia-cusparse-cu12-12.3.1.170 nvidia-nvjitlink-cu12-12.4.127\n"
          ]
        }
      ],
      "execution_count": 1
    },
    {
      "cell_type": "code",
      "id": "7ccbbc3a280cabd8",
      "metadata": {
        "id": "7ccbbc3a280cabd8"
      },
      "source": [
        "import abc\n",
        "from timeit import default_timer as timer\n",
        "\n",
        "import matplotlib.pyplot as plt\n",
        "import numpy as np\n",
        "import pandas as pd\n",
        "from sklearn.datasets import load_breast_cancer\n",
        "from sklearn.metrics import ConfusionMatrixDisplay\n",
        "from sklearn.metrics import classification_report\n",
        "from sklearn.metrics import confusion_matrix\n",
        "from sklearn.model_selection import train_test_split\n",
        "from sklearn.preprocessing import StandardScaler\n",
        "from tqdm.auto import tqdm"
      ],
      "outputs": [],
      "execution_count": 2
    },
    {
      "cell_type": "markdown",
      "id": "fb6ebda9-730c-4adb-abcd-dd7229fdbc53",
      "metadata": {
        "id": "fb6ebda9-730c-4adb-abcd-dd7229fdbc53"
      },
      "source": [
        "## Utility functions"
      ]
    },
    {
      "cell_type": "code",
      "id": "4f60228e-beae-4dcb-8aae-5404e7fa7d8f",
      "metadata": {
        "id": "4f60228e-beae-4dcb-8aae-5404e7fa7d8f"
      },
      "source": [
        "def plot_training_curve(loss: list, val_loss: list, fill_between=True):\n",
        "    epochs_range = range(len(val_loss))\n",
        "    plt.figure(figsize=(5, 5))\n",
        "    plt.plot(epochs_range, loss, label=\"training loss\")\n",
        "    plt.plot(epochs_range, val_loss, label=\"validation loss\")\n",
        "    if fill_between:\n",
        "        plt.fill_between(epochs_range, loss, val_loss, color=\"lightpink\", alpha=0.4, hatch=\"-\", label=\"difference\")\n",
        "    plt.legend(loc=\"upper right\")\n",
        "    plt.title(\"training and validation loss\")\n",
        "    plt.show()"
      ],
      "outputs": [],
      "execution_count": 3
    },
    {
      "cell_type": "markdown",
      "id": "b861b5c1-d40a-4b3c-99ea-85ad90ea75ec",
      "metadata": {
        "id": "b861b5c1-d40a-4b3c-99ea-85ad90ea75ec"
      },
      "source": [
        "# Data exploration"
      ]
    },
    {
      "cell_type": "markdown",
      "id": "7ad4c720d50c88a1",
      "metadata": {
        "id": "7ad4c720d50c88a1"
      },
      "source": [
        "We use the scikit-learn inbuilt breast cancer dataset. It's features are computed from digitized images of fine needle aspirates of a breast mass.\n",
        "This is structured data, since it is available in a standardized tabular format."
      ]
    },
    {
      "cell_type": "code",
      "id": "36f0d58e3266571",
      "metadata": {
        "id": "36f0d58e3266571"
      },
      "source": [
        "df = load_breast_cancer(as_frame=True)[\"frame\"]"
      ],
      "outputs": [],
      "execution_count": 4
    },
    {
      "cell_type": "markdown",
      "id": "475d5e0fd521ff37",
      "metadata": {
        "id": "475d5e0fd521ff37"
      },
      "source": [
        "The data is obtained from images such as the one below. For example, the mean radius is the average of the radi of the extracted nuclei visible in the picture.\n",
        "\n",
        "![Image of Yaktocat](https://www.researchgate.net/profile/Nick-Street/publication/2512520/figure/fig2/AS:279373199495169@1443619169198/Snakes-After-Convergence-to-Cell-Nucleus-Boundaries-These-contours-are-the-nal.png)"
      ]
    },
    {
      "cell_type": "markdown",
      "id": "832db03135ff2891",
      "metadata": {
        "id": "832db03135ff2891"
      },
      "source": [
        "Note that every good machine learning engineer should at this point check for potential issues in the data, and preprocess it as appropriate.\n",
        "In this guided exercise we will completely ignore this phase; please **never** do this with real data.\n",
        "\n",
        "For our simplified classification task, we will select the malignancy (means the cancer is not harmless) as target (already called target in our data, this is our `y`).\n",
        "We will use all other columns as feature variables (our `X`)."
      ]
    },
    {
      "cell_type": "code",
      "id": "4d88154d-3bff-4739-81df-6ed9871b0c0a",
      "metadata": {
        "id": "4d88154d-3bff-4739-81df-6ed9871b0c0a",
        "outputId": "7f2fa720-7f01-49d2-9786-f9572cb23844",
        "colab": {
          "base_uri": "https://localhost:8080/",
          "height": 290
        }
      },
      "source": [
        "df.head()"
      ],
      "outputs": [
        {
          "output_type": "execute_result",
          "data": {
            "text/plain": [
              "   mean radius  mean texture  mean perimeter  mean area  mean smoothness  \\\n",
              "0        17.99         10.38          122.80     1001.0          0.11840   \n",
              "1        20.57         17.77          132.90     1326.0          0.08474   \n",
              "2        19.69         21.25          130.00     1203.0          0.10960   \n",
              "3        11.42         20.38           77.58      386.1          0.14250   \n",
              "4        20.29         14.34          135.10     1297.0          0.10030   \n",
              "\n",
              "   mean compactness  mean concavity  mean concave points  mean symmetry  \\\n",
              "0           0.27760          0.3001              0.14710         0.2419   \n",
              "1           0.07864          0.0869              0.07017         0.1812   \n",
              "2           0.15990          0.1974              0.12790         0.2069   \n",
              "3           0.28390          0.2414              0.10520         0.2597   \n",
              "4           0.13280          0.1980              0.10430         0.1809   \n",
              "\n",
              "   mean fractal dimension  ...  worst texture  worst perimeter  worst area  \\\n",
              "0                 0.07871  ...          17.33           184.60      2019.0   \n",
              "1                 0.05667  ...          23.41           158.80      1956.0   \n",
              "2                 0.05999  ...          25.53           152.50      1709.0   \n",
              "3                 0.09744  ...          26.50            98.87       567.7   \n",
              "4                 0.05883  ...          16.67           152.20      1575.0   \n",
              "\n",
              "   worst smoothness  worst compactness  worst concavity  worst concave points  \\\n",
              "0            0.1622             0.6656           0.7119                0.2654   \n",
              "1            0.1238             0.1866           0.2416                0.1860   \n",
              "2            0.1444             0.4245           0.4504                0.2430   \n",
              "3            0.2098             0.8663           0.6869                0.2575   \n",
              "4            0.1374             0.2050           0.4000                0.1625   \n",
              "\n",
              "   worst symmetry  worst fractal dimension  target  \n",
              "0          0.4601                  0.11890       0  \n",
              "1          0.2750                  0.08902       0  \n",
              "2          0.3613                  0.08758       0  \n",
              "3          0.6638                  0.17300       0  \n",
              "4          0.2364                  0.07678       0  \n",
              "\n",
              "[5 rows x 31 columns]"
            ],
            "text/html": [
              "\n",
              "  <div id=\"df-0b030a4d-915c-4331-a0da-53192a911e10\" class=\"colab-df-container\">\n",
              "    <div>\n",
              "<style scoped>\n",
              "    .dataframe tbody tr th:only-of-type {\n",
              "        vertical-align: middle;\n",
              "    }\n",
              "\n",
              "    .dataframe tbody tr th {\n",
              "        vertical-align: top;\n",
              "    }\n",
              "\n",
              "    .dataframe thead th {\n",
              "        text-align: right;\n",
              "    }\n",
              "</style>\n",
              "<table border=\"1\" class=\"dataframe\">\n",
              "  <thead>\n",
              "    <tr style=\"text-align: right;\">\n",
              "      <th></th>\n",
              "      <th>mean radius</th>\n",
              "      <th>mean texture</th>\n",
              "      <th>mean perimeter</th>\n",
              "      <th>mean area</th>\n",
              "      <th>mean smoothness</th>\n",
              "      <th>mean compactness</th>\n",
              "      <th>mean concavity</th>\n",
              "      <th>mean concave points</th>\n",
              "      <th>mean symmetry</th>\n",
              "      <th>mean fractal dimension</th>\n",
              "      <th>...</th>\n",
              "      <th>worst texture</th>\n",
              "      <th>worst perimeter</th>\n",
              "      <th>worst area</th>\n",
              "      <th>worst smoothness</th>\n",
              "      <th>worst compactness</th>\n",
              "      <th>worst concavity</th>\n",
              "      <th>worst concave points</th>\n",
              "      <th>worst symmetry</th>\n",
              "      <th>worst fractal dimension</th>\n",
              "      <th>target</th>\n",
              "    </tr>\n",
              "  </thead>\n",
              "  <tbody>\n",
              "    <tr>\n",
              "      <th>0</th>\n",
              "      <td>17.99</td>\n",
              "      <td>10.38</td>\n",
              "      <td>122.80</td>\n",
              "      <td>1001.0</td>\n",
              "      <td>0.11840</td>\n",
              "      <td>0.27760</td>\n",
              "      <td>0.3001</td>\n",
              "      <td>0.14710</td>\n",
              "      <td>0.2419</td>\n",
              "      <td>0.07871</td>\n",
              "      <td>...</td>\n",
              "      <td>17.33</td>\n",
              "      <td>184.60</td>\n",
              "      <td>2019.0</td>\n",
              "      <td>0.1622</td>\n",
              "      <td>0.6656</td>\n",
              "      <td>0.7119</td>\n",
              "      <td>0.2654</td>\n",
              "      <td>0.4601</td>\n",
              "      <td>0.11890</td>\n",
              "      <td>0</td>\n",
              "    </tr>\n",
              "    <tr>\n",
              "      <th>1</th>\n",
              "      <td>20.57</td>\n",
              "      <td>17.77</td>\n",
              "      <td>132.90</td>\n",
              "      <td>1326.0</td>\n",
              "      <td>0.08474</td>\n",
              "      <td>0.07864</td>\n",
              "      <td>0.0869</td>\n",
              "      <td>0.07017</td>\n",
              "      <td>0.1812</td>\n",
              "      <td>0.05667</td>\n",
              "      <td>...</td>\n",
              "      <td>23.41</td>\n",
              "      <td>158.80</td>\n",
              "      <td>1956.0</td>\n",
              "      <td>0.1238</td>\n",
              "      <td>0.1866</td>\n",
              "      <td>0.2416</td>\n",
              "      <td>0.1860</td>\n",
              "      <td>0.2750</td>\n",
              "      <td>0.08902</td>\n",
              "      <td>0</td>\n",
              "    </tr>\n",
              "    <tr>\n",
              "      <th>2</th>\n",
              "      <td>19.69</td>\n",
              "      <td>21.25</td>\n",
              "      <td>130.00</td>\n",
              "      <td>1203.0</td>\n",
              "      <td>0.10960</td>\n",
              "      <td>0.15990</td>\n",
              "      <td>0.1974</td>\n",
              "      <td>0.12790</td>\n",
              "      <td>0.2069</td>\n",
              "      <td>0.05999</td>\n",
              "      <td>...</td>\n",
              "      <td>25.53</td>\n",
              "      <td>152.50</td>\n",
              "      <td>1709.0</td>\n",
              "      <td>0.1444</td>\n",
              "      <td>0.4245</td>\n",
              "      <td>0.4504</td>\n",
              "      <td>0.2430</td>\n",
              "      <td>0.3613</td>\n",
              "      <td>0.08758</td>\n",
              "      <td>0</td>\n",
              "    </tr>\n",
              "    <tr>\n",
              "      <th>3</th>\n",
              "      <td>11.42</td>\n",
              "      <td>20.38</td>\n",
              "      <td>77.58</td>\n",
              "      <td>386.1</td>\n",
              "      <td>0.14250</td>\n",
              "      <td>0.28390</td>\n",
              "      <td>0.2414</td>\n",
              "      <td>0.10520</td>\n",
              "      <td>0.2597</td>\n",
              "      <td>0.09744</td>\n",
              "      <td>...</td>\n",
              "      <td>26.50</td>\n",
              "      <td>98.87</td>\n",
              "      <td>567.7</td>\n",
              "      <td>0.2098</td>\n",
              "      <td>0.8663</td>\n",
              "      <td>0.6869</td>\n",
              "      <td>0.2575</td>\n",
              "      <td>0.6638</td>\n",
              "      <td>0.17300</td>\n",
              "      <td>0</td>\n",
              "    </tr>\n",
              "    <tr>\n",
              "      <th>4</th>\n",
              "      <td>20.29</td>\n",
              "      <td>14.34</td>\n",
              "      <td>135.10</td>\n",
              "      <td>1297.0</td>\n",
              "      <td>0.10030</td>\n",
              "      <td>0.13280</td>\n",
              "      <td>0.1980</td>\n",
              "      <td>0.10430</td>\n",
              "      <td>0.1809</td>\n",
              "      <td>0.05883</td>\n",
              "      <td>...</td>\n",
              "      <td>16.67</td>\n",
              "      <td>152.20</td>\n",
              "      <td>1575.0</td>\n",
              "      <td>0.1374</td>\n",
              "      <td>0.2050</td>\n",
              "      <td>0.4000</td>\n",
              "      <td>0.1625</td>\n",
              "      <td>0.2364</td>\n",
              "      <td>0.07678</td>\n",
              "      <td>0</td>\n",
              "    </tr>\n",
              "  </tbody>\n",
              "</table>\n",
              "<p>5 rows × 31 columns</p>\n",
              "</div>\n",
              "    <div class=\"colab-df-buttons\">\n",
              "\n",
              "  <div class=\"colab-df-container\">\n",
              "    <button class=\"colab-df-convert\" onclick=\"convertToInteractive('df-0b030a4d-915c-4331-a0da-53192a911e10')\"\n",
              "            title=\"Convert this dataframe to an interactive table.\"\n",
              "            style=\"display:none;\">\n",
              "\n",
              "  <svg xmlns=\"http://www.w3.org/2000/svg\" height=\"24px\" viewBox=\"0 -960 960 960\">\n",
              "    <path d=\"M120-120v-720h720v720H120Zm60-500h600v-160H180v160Zm220 220h160v-160H400v160Zm0 220h160v-160H400v160ZM180-400h160v-160H180v160Zm440 0h160v-160H620v160ZM180-180h160v-160H180v160Zm440 0h160v-160H620v160Z\"/>\n",
              "  </svg>\n",
              "    </button>\n",
              "\n",
              "  <style>\n",
              "    .colab-df-container {\n",
              "      display:flex;\n",
              "      gap: 12px;\n",
              "    }\n",
              "\n",
              "    .colab-df-convert {\n",
              "      background-color: #E8F0FE;\n",
              "      border: none;\n",
              "      border-radius: 50%;\n",
              "      cursor: pointer;\n",
              "      display: none;\n",
              "      fill: #1967D2;\n",
              "      height: 32px;\n",
              "      padding: 0 0 0 0;\n",
              "      width: 32px;\n",
              "    }\n",
              "\n",
              "    .colab-df-convert:hover {\n",
              "      background-color: #E2EBFA;\n",
              "      box-shadow: 0px 1px 2px rgba(60, 64, 67, 0.3), 0px 1px 3px 1px rgba(60, 64, 67, 0.15);\n",
              "      fill: #174EA6;\n",
              "    }\n",
              "\n",
              "    .colab-df-buttons div {\n",
              "      margin-bottom: 4px;\n",
              "    }\n",
              "\n",
              "    [theme=dark] .colab-df-convert {\n",
              "      background-color: #3B4455;\n",
              "      fill: #D2E3FC;\n",
              "    }\n",
              "\n",
              "    [theme=dark] .colab-df-convert:hover {\n",
              "      background-color: #434B5C;\n",
              "      box-shadow: 0px 1px 3px 1px rgba(0, 0, 0, 0.15);\n",
              "      filter: drop-shadow(0px 1px 2px rgba(0, 0, 0, 0.3));\n",
              "      fill: #FFFFFF;\n",
              "    }\n",
              "  </style>\n",
              "\n",
              "    <script>\n",
              "      const buttonEl =\n",
              "        document.querySelector('#df-0b030a4d-915c-4331-a0da-53192a911e10 button.colab-df-convert');\n",
              "      buttonEl.style.display =\n",
              "        google.colab.kernel.accessAllowed ? 'block' : 'none';\n",
              "\n",
              "      async function convertToInteractive(key) {\n",
              "        const element = document.querySelector('#df-0b030a4d-915c-4331-a0da-53192a911e10');\n",
              "        const dataTable =\n",
              "          await google.colab.kernel.invokeFunction('convertToInteractive',\n",
              "                                                    [key], {});\n",
              "        if (!dataTable) return;\n",
              "\n",
              "        const docLinkHtml = 'Like what you see? Visit the ' +\n",
              "          '<a target=\"_blank\" href=https://colab.research.google.com/notebooks/data_table.ipynb>data table notebook</a>'\n",
              "          + ' to learn more about interactive tables.';\n",
              "        element.innerHTML = '';\n",
              "        dataTable['output_type'] = 'display_data';\n",
              "        await google.colab.output.renderOutput(dataTable, element);\n",
              "        const docLink = document.createElement('div');\n",
              "        docLink.innerHTML = docLinkHtml;\n",
              "        element.appendChild(docLink);\n",
              "      }\n",
              "    </script>\n",
              "  </div>\n",
              "\n",
              "\n",
              "    <div id=\"df-94801a88-6bd4-43aa-98ae-72d1292f76f8\">\n",
              "      <button class=\"colab-df-quickchart\" onclick=\"quickchart('df-94801a88-6bd4-43aa-98ae-72d1292f76f8')\"\n",
              "                title=\"Suggest charts\"\n",
              "                style=\"display:none;\">\n",
              "\n",
              "<svg xmlns=\"http://www.w3.org/2000/svg\" height=\"24px\"viewBox=\"0 0 24 24\"\n",
              "     width=\"24px\">\n",
              "    <g>\n",
              "        <path d=\"M19 3H5c-1.1 0-2 .9-2 2v14c0 1.1.9 2 2 2h14c1.1 0 2-.9 2-2V5c0-1.1-.9-2-2-2zM9 17H7v-7h2v7zm4 0h-2V7h2v10zm4 0h-2v-4h2v4z\"/>\n",
              "    </g>\n",
              "</svg>\n",
              "      </button>\n",
              "\n",
              "<style>\n",
              "  .colab-df-quickchart {\n",
              "      --bg-color: #E8F0FE;\n",
              "      --fill-color: #1967D2;\n",
              "      --hover-bg-color: #E2EBFA;\n",
              "      --hover-fill-color: #174EA6;\n",
              "      --disabled-fill-color: #AAA;\n",
              "      --disabled-bg-color: #DDD;\n",
              "  }\n",
              "\n",
              "  [theme=dark] .colab-df-quickchart {\n",
              "      --bg-color: #3B4455;\n",
              "      --fill-color: #D2E3FC;\n",
              "      --hover-bg-color: #434B5C;\n",
              "      --hover-fill-color: #FFFFFF;\n",
              "      --disabled-bg-color: #3B4455;\n",
              "      --disabled-fill-color: #666;\n",
              "  }\n",
              "\n",
              "  .colab-df-quickchart {\n",
              "    background-color: var(--bg-color);\n",
              "    border: none;\n",
              "    border-radius: 50%;\n",
              "    cursor: pointer;\n",
              "    display: none;\n",
              "    fill: var(--fill-color);\n",
              "    height: 32px;\n",
              "    padding: 0;\n",
              "    width: 32px;\n",
              "  }\n",
              "\n",
              "  .colab-df-quickchart:hover {\n",
              "    background-color: var(--hover-bg-color);\n",
              "    box-shadow: 0 1px 2px rgba(60, 64, 67, 0.3), 0 1px 3px 1px rgba(60, 64, 67, 0.15);\n",
              "    fill: var(--button-hover-fill-color);\n",
              "  }\n",
              "\n",
              "  .colab-df-quickchart-complete:disabled,\n",
              "  .colab-df-quickchart-complete:disabled:hover {\n",
              "    background-color: var(--disabled-bg-color);\n",
              "    fill: var(--disabled-fill-color);\n",
              "    box-shadow: none;\n",
              "  }\n",
              "\n",
              "  .colab-df-spinner {\n",
              "    border: 2px solid var(--fill-color);\n",
              "    border-color: transparent;\n",
              "    border-bottom-color: var(--fill-color);\n",
              "    animation:\n",
              "      spin 1s steps(1) infinite;\n",
              "  }\n",
              "\n",
              "  @keyframes spin {\n",
              "    0% {\n",
              "      border-color: transparent;\n",
              "      border-bottom-color: var(--fill-color);\n",
              "      border-left-color: var(--fill-color);\n",
              "    }\n",
              "    20% {\n",
              "      border-color: transparent;\n",
              "      border-left-color: var(--fill-color);\n",
              "      border-top-color: var(--fill-color);\n",
              "    }\n",
              "    30% {\n",
              "      border-color: transparent;\n",
              "      border-left-color: var(--fill-color);\n",
              "      border-top-color: var(--fill-color);\n",
              "      border-right-color: var(--fill-color);\n",
              "    }\n",
              "    40% {\n",
              "      border-color: transparent;\n",
              "      border-right-color: var(--fill-color);\n",
              "      border-top-color: var(--fill-color);\n",
              "    }\n",
              "    60% {\n",
              "      border-color: transparent;\n",
              "      border-right-color: var(--fill-color);\n",
              "    }\n",
              "    80% {\n",
              "      border-color: transparent;\n",
              "      border-right-color: var(--fill-color);\n",
              "      border-bottom-color: var(--fill-color);\n",
              "    }\n",
              "    90% {\n",
              "      border-color: transparent;\n",
              "      border-bottom-color: var(--fill-color);\n",
              "    }\n",
              "  }\n",
              "</style>\n",
              "\n",
              "      <script>\n",
              "        async function quickchart(key) {\n",
              "          const quickchartButtonEl =\n",
              "            document.querySelector('#' + key + ' button');\n",
              "          quickchartButtonEl.disabled = true;  // To prevent multiple clicks.\n",
              "          quickchartButtonEl.classList.add('colab-df-spinner');\n",
              "          try {\n",
              "            const charts = await google.colab.kernel.invokeFunction(\n",
              "                'suggestCharts', [key], {});\n",
              "          } catch (error) {\n",
              "            console.error('Error during call to suggestCharts:', error);\n",
              "          }\n",
              "          quickchartButtonEl.classList.remove('colab-df-spinner');\n",
              "          quickchartButtonEl.classList.add('colab-df-quickchart-complete');\n",
              "        }\n",
              "        (() => {\n",
              "          let quickchartButtonEl =\n",
              "            document.querySelector('#df-94801a88-6bd4-43aa-98ae-72d1292f76f8 button');\n",
              "          quickchartButtonEl.style.display =\n",
              "            google.colab.kernel.accessAllowed ? 'block' : 'none';\n",
              "        })();\n",
              "      </script>\n",
              "    </div>\n",
              "\n",
              "    </div>\n",
              "  </div>\n"
            ],
            "application/vnd.google.colaboratory.intrinsic+json": {
              "type": "dataframe",
              "variable_name": "df"
            }
          },
          "metadata": {},
          "execution_count": 5
        }
      ],
      "execution_count": 5
    },
    {
      "metadata": {
        "id": "5380b309d0efdcf4",
        "outputId": "637cce1f-1191-470f-c97d-f2adfe6a0d0f",
        "colab": {
          "base_uri": "https://localhost:8080/"
        }
      },
      "cell_type": "code",
      "source": [
        "X = df[list(df.columns)[:-1]].values # only first 2 columns\n",
        "y = df[[\"target\"]].values.ravel()\n",
        "X.shape, y.shape"
      ],
      "id": "5380b309d0efdcf4",
      "outputs": [
        {
          "output_type": "execute_result",
          "data": {
            "text/plain": [
              "((569, 30), (569,))"
            ]
          },
          "metadata": {},
          "execution_count": 6
        }
      ],
      "execution_count": 6
    },
    {
      "metadata": {
        "id": "6d5e98613b46f593"
      },
      "cell_type": "markdown",
      "source": [
        "Let's look at the distribution of the classes in the training dataset to see if we have a balanced dataset"
      ],
      "id": "6d5e98613b46f593"
    },
    {
      "metadata": {
        "id": "2883761a-fe79-45e9-9bcb-a523faf76778"
      },
      "cell_type": "code",
      "source": [
        "labels = {0: \"Benign\", 1: \"Malignant\"}"
      ],
      "id": "2883761a-fe79-45e9-9bcb-a523faf76778",
      "outputs": [],
      "execution_count": 7
    },
    {
      "metadata": {
        "id": "d8fcf6c041207f7b",
        "outputId": "ae60660f-f2b9-4407-b639-b084294319bd",
        "colab": {
          "base_uri": "https://localhost:8080/",
          "height": 497
        }
      },
      "cell_type": "code",
      "source": [
        "def count_labels(labels, classnames) -> dict:\n",
        "    classnames = list(classnames)\n",
        "    dictionary = dict.fromkeys(classnames, 0)\n",
        "    for label in labels:\n",
        "        dictionary[classnames[label]] += 1\n",
        "    return dictionary\n",
        "\n",
        "\n",
        "class_counts = count_labels(y.ravel(), labels.values())\n",
        "plt.bar(class_counts.keys(), class_counts.values())\n",
        "plt.xticks(rotation=45)\n",
        "_ = plt.title(\"Distribution of classes in the whole dataset\")"
      ],
      "id": "d8fcf6c041207f7b",
      "outputs": [
        {
          "output_type": "display_data",
          "data": {
            "text/plain": [
              "<Figure size 640x480 with 1 Axes>"
            ],
            "image/png": "[encoded data removed]"
          },
          "metadata": {}
        }
      ],
      "execution_count": 8
    },
    {
      "metadata": {
        "id": "e430712f35d95729"
      },
      "cell_type": "markdown",
      "source": [
        "Our goal is to create a model to predict whether an image presents malignant breast cancer.\n",
        "However, we would like this model to work not only for the images in this dataset, but also for new ones captured in the future.\n",
        "In other words, the model should _generalize_ well to new data.\n",
        "\n",
        "In order to check how good our model is in predicting malignancy of yet unseen images, we put 30% of the data to the side and split this into validation and test set. The test set must only be used once for the final validation, while the validation set can be used for hyperparameter tuning.\n",
        "\n",
        "The model will be trained only on the first 70% of the data, our _training set_. Since we have an imbalance in the data, we will use the stratify parameter to ensure that the class distribution in the splits is the same as in the original dataset."
      ],
      "id": "e430712f35d95729"
    },
    {
      "metadata": {
        "id": "26e706036b4f452a"
      },
      "cell_type": "code",
      "source": [
        "x_train, x_test, y_train, y_test = train_test_split(X, y, test_size=0.3, random_state=42, shuffle=True, stratify=y)\n",
        "x_train = x_train\n",
        "x_val, y_val = x_test[:len(x_test) // 2], y_test[:len(y_test) // 2]\n",
        "x_test, y_test = x_test[len(x_test) // 2:], y_test[len(y_test) // 2:]\n",
        "y_train, y_val, y_test = y_train.reshape(1, -1), y_val.reshape(1, -1), y_test.reshape(1, -1)\n",
        "assert x_test.shape != x_val.shape or x_test != x_val\n",
        "assert y_test.shape != y_val.shape or y_test != y_val"
      ],
      "id": "26e706036b4f452a",
      "outputs": [],
      "execution_count": 9
    },
    {
      "metadata": {
        "id": "22e665d36e55c41e"
      },
      "cell_type": "markdown",
      "source": [
        "The features have very different scales, so we standardize first."
      ],
      "id": "22e665d36e55c41e"
    },
    {
      "metadata": {
        "id": "964194ad875de958"
      },
      "cell_type": "code",
      "source": [
        "scaler = StandardScaler().fit(x_train)\n",
        "x_train, x_val, x_test = scaler.transform(x_train).T, scaler.transform(x_val).T, scaler.transform(x_test).T"
      ],
      "id": "964194ad875de958",
      "outputs": [],
      "execution_count": 10
    },
    {
      "cell_type": "markdown",
      "id": "90696e2a-c4e4-4546-b42a-118845ae4c63",
      "metadata": {
        "id": "90696e2a-c4e4-4546-b42a-118845ae4c63"
      },
      "source": [
        "## Neural Network Implementation"
      ]
    },
    {
      "cell_type": "markdown",
      "id": "194c20e1-1b0f-406c-bba2-ad117149c5ef",
      "metadata": {
        "id": "194c20e1-1b0f-406c-bba2-ad117149c5ef"
      },
      "source": [
        "In this section, we define and implement the different components of a multi-level perceptron\n"
      ]
    },
    {
      "cell_type": "markdown",
      "id": "52588142-32b8-4e43-9169-324eb448aa28",
      "metadata": {
        "id": "52588142-32b8-4e43-9169-324eb448aa28"
      },
      "source": [
        "### Activations & Losses"
      ]
    },
    {
      "cell_type": "code",
      "id": "edd24107-786b-4696-837a-a5d45dcf3055",
      "metadata": {
        "id": "edd24107-786b-4696-837a-a5d45dcf3055"
      },
      "source": [
        "class AbstractActivationFunction(abc.ABC):\n",
        "    \"\"\"\n",
        "    Abstract base class for activation functions\n",
        "    \"\"\"\n",
        "\n",
        "    @abc.abstractmethod\n",
        "    def forward(self, z: np.ndarray):\n",
        "        \"\"\"\n",
        "        Computes the value of the activation function element wise\n",
        "        \"\"\"\n",
        "        ...\n",
        "\n",
        "    @abc.abstractmethod\n",
        "    def backward(self, z: np.ndarray):\n",
        "        \"\"\"\n",
        "        Computes the derivative of the activation function element wise\n",
        "        \"\"\"\n",
        "        ...\n"
      ],
      "outputs": [],
      "execution_count": 11
    },
    {
      "cell_type": "code",
      "id": "5a667f73ed697e5f",
      "metadata": {
        "id": "5a667f73ed697e5f"
      },
      "source": [
        "class ReLU(AbstractActivationFunction):\n",
        "    \"\"\"\n",
        "    Implements the ReLU activation function and its derivative\n",
        "    \"\"\"\n",
        "\n",
        "    def forward(self, z: np.ndarray) -> np.ndarray:\n",
        "        return np.maximum(z, 0)\n",
        "\n",
        "    def backward(self, z: np.ndarray) -> np.ndarray:\n",
        "        d = np.ones_like(z)\n",
        "        d[z < 0] = 0\n",
        "        return d"
      ],
      "outputs": [],
      "execution_count": 12
    },
    {
      "cell_type": "markdown",
      "id": "b37cfd3d-d207-4f2f-9fa0-f5d5af5857cf",
      "metadata": {
        "id": "b37cfd3d-d207-4f2f-9fa0-f5d5af5857cf"
      },
      "source": [
        "**Exercise 1: Implement the Sigmoid activation function and its derivative**"
      ]
    },
    {
      "cell_type": "code",
      "id": "0cac2f99-a9a3-4edb-81b1-0a8877e6a8b4",
      "metadata": {
        "id": "0cac2f99-a9a3-4edb-81b1-0a8877e6a8b4"
      },
      "source": [
        "class Sigmoid(AbstractActivationFunction):\n",
        "    \"\"\"\n",
        "    Implements the sigmoid activation function and its derivative\n",
        "    \"\"\"\n",
        "\n",
        "    def forward(self, z: np.ndarray):\n",
        "        \"\"\"\n",
        "        Computes the sigmoid function element wise\n",
        "        \"\"\"\n",
        "        ### START YOUR CODE ###\n",
        "        return 1.0 / (1.0 + np.exp(-z))\n",
        "        ### END YOUR CODE ###\n",
        "\n",
        "    def backward(self, z: np.ndarray):\n",
        "        ### START YOUR CODE ###\n",
        "        s = self.forward(z)\n",
        "        return s * (1 - s)\n",
        "        ### END YOUR CODE ###"
      ],
      "outputs": [],
      "execution_count": 13
    },
    {
      "cell_type": "markdown",
      "id": "128523fe-850a-42cb-998b-b4c951386f1e",
      "metadata": {
        "id": "128523fe-850a-42cb-998b-b4c951386f1e"
      },
      "source": [
        "**Click below for the solution**"
      ]
    },
    {
      "cell_type": "code",
      "id": "6c17c5d3bc5b1e53",
      "metadata": {
        "jupyter": {
          "source_hidden": true
        },
        "id": "6c17c5d3bc5b1e53"
      },
      "source": [
        "#@title Solution for Sigmoid activation function\n",
        "class Sigmoid(AbstractActivationFunction):\n",
        "    \"\"\"\n",
        "    Implements the sigmoid activation function and its derivative\n",
        "    \"\"\"\n",
        "\n",
        "    def forward(self, z: np.ndarray):\n",
        "        \"\"\"\n",
        "        Computes the sigmoid function element wise\n",
        "        \"\"\"\n",
        "        return 1.0 / (1.0 + np.exp(-z))\n",
        "\n",
        "    def backward(self, z: np.ndarray):\n",
        "        s = self.forward(z)\n",
        "        return s * (1 - s)"
      ],
      "outputs": [],
      "execution_count": 14
    },
    {
      "cell_type": "code",
      "id": "94e5955d-b6da-419e-aa83-4423287a2808",
      "metadata": {
        "id": "94e5955d-b6da-419e-aa83-4423287a2808"
      },
      "source": [
        "class NormInitializer:\n",
        "\n",
        "    def initialize_weights(self, size: int, mu: float = 0.0, sigma: float = 1.0) -> np.ndarray:\n",
        "        return np.random.normal(size=size, loc=mu, scale=sigma)\n",
        "\n",
        "    def initialize_bias(self, size: int, mu: float = 0.0, sigma: float = 1.0) -> np.ndarray:\n",
        "        return np.random.normal(size=size, loc=mu, scale=sigma)"
      ],
      "outputs": [],
      "execution_count": 15
    },
    {
      "cell_type": "code",
      "id": "0a358915-57b7-47a5-9d3d-9642dbdb41c0",
      "metadata": {
        "id": "0a358915-57b7-47a5-9d3d-9642dbdb41c0"
      },
      "source": [
        "class AbstractLoss(abc.ABC):\n",
        "    \"\"\"\n",
        "    Abstract base class for loss functions\n",
        "    \"\"\"\n",
        "\n",
        "    def forward(self, y: np.ndarray, prob: np.ndarray) -> np.ndarray:\n",
        "        \"\"\"\n",
        "        Computes the loss\n",
        "        :param y: true labels, shape (n_classes, batch_size)\n",
        "        :param prob: predicted probabilities, shape (n_classes, batch_size)\n",
        "        :param class_weights: class weights for weighting loss according to class balance, shape (n_classes,)\n",
        "        :return: the loss value as a float\n",
        "        \"\"\"\n",
        "        ...\n",
        "\n",
        "    def backward(self, y: np.ndarray, prob: np.ndarray) -> np.ndarray:\n",
        "        \"\"\"\n",
        "        Backward pass of the loss, computes the gradient of the loss with respect to the logits\n",
        "        :param y: true labels, shape (n_classes, batch_size)\n",
        "        :param prob: predicted probabilities, shape (n_classes, batch_size)\n",
        "        :param class_weights: class weights for weighting loss according to class balance, shape (n_classes,)\n",
        "        :return: gradient of the loss with respect to the logits, shape (n_classes, batch_size)\n",
        "        \"\"\"\n",
        "        ..."
      ],
      "outputs": [],
      "execution_count": 16
    },
    {
      "cell_type": "code",
      "id": "6026cdb2-24e1-4059-8318-94cd74ee1a03",
      "metadata": {
        "id": "6026cdb2-24e1-4059-8318-94cd74ee1a03"
      },
      "source": [
        "class BinaryCrossEntropy(AbstractLoss):\n",
        "    \"\"\"\n",
        "    Implements the binary cross entropy loss function and its derivative\n",
        "    \"\"\"\n",
        "\n",
        "    def forward(self, y: np.ndarray, prob: np.ndarray) -> float:\n",
        "        \"\"\"\n",
        "        Computes the binary cross entropy loss\n",
        "        :param y: true labels, shape (n_classes, batch_size)\n",
        "        :param prob: predicted probabilities, shape (n_classes, batch_size)\n",
        "        :param class_weights: class weights for weighting loss according to class balance, shape (n_classes,)\n",
        "        :return: the binary cross entropy loss value as a float\n",
        "        \"\"\"\n",
        "        assert np.max(y) <= 1, y\n",
        "        assert np.max(prob) <= 1, prob\n",
        "        prob = np.clip(prob, 1e-8, 1 - 1e-8)\n",
        "        loss = (y * np.log(prob) + (1 - y) * np.log(1 - prob))\n",
        "        return -np.mean(np.average(loss, axis=-1))\n",
        "\n",
        "    def backward(self, y: np.ndarray, prob: np.ndarray, class_weights: np.ndarray = None) -> np.ndarray:\n",
        "        \"\"\"\n",
        "        Backward pass of the binary cross entropy loss, computes the gradient of the loss with respect to the logits\n",
        "        :param y: true labels, shape (n_classes, batch_size)\n",
        "        :param prob: predicted probabilities, shape (n_classes, batch_size)\n",
        "        :param class_weights: class weights for weighting loss according to class balance, shape (n_classes,)\n",
        "        :return: gradient of the loss with respect to the logits, shape (n_classes, batch_size)\n",
        "        \"\"\"\n",
        "        return -(y / (prob + 1e-8)) + ((1 - y) / (1 - prob + 1e-8))\n"
      ],
      "outputs": [],
      "execution_count": 17
    },
    {
      "cell_type": "markdown",
      "id": "0f2c8e53-81cb-4c55-a7df-d2135dc163fb",
      "metadata": {
        "id": "0f2c8e53-81cb-4c55-a7df-d2135dc163fb"
      },
      "source": [
        "#### Layers"
      ]
    },
    {
      "cell_type": "code",
      "id": "fe6e5f7a-1e9e-4584-ac85-1d82d11ac77f",
      "metadata": {
        "id": "fe6e5f7a-1e9e-4584-ac85-1d82d11ac77f"
      },
      "source": [
        "class AbstractLayer(abc.ABC):\n",
        "\n",
        "    def __init__(self,\n",
        "                 layer_id: str,\n",
        "                 n_neurons: int,\n",
        "                 n_neurons_prev: int,\n",
        "                 activation: AbstractActivationFunction,\n",
        "                 initializer: NormInitializer) -> None:\n",
        "        \"\"\"\n",
        "        Abstract base class for layers in an MLP\n",
        "        :param layer_id: unique identifier for the layer\n",
        "        :param n_neurons: number of neurons in the layer\n",
        "        :param n_neurons_prev: number of neurons in the previous layer\n",
        "        :param activation: activation function for the layer\n",
        "        :param initializer: initializer for the weights and biases of the layer\n",
        "        \"\"\"\n",
        "        self.layer_id = layer_id\n",
        "        self.n_neurons = n_neurons\n",
        "        self.n_neurons_prev = n_neurons_prev\n",
        "        self.initializer = initializer\n",
        "        self.activation = activation\n",
        "\n",
        "        self.weights = None  # shape (n_neurons, n_neurons_prev)\n",
        "        self.bias = None  # shape (n_neurons, 1)\n",
        "        self.logits = None  # shape (n_neurons, batch_size)\n",
        "        self.activations = None  # shape(n_neurons, batch_size)\n",
        "        self.grad_logits = None  # shape(n_neurons, batch_size)\n",
        "\n",
        "    def initialize(self) -> None:\n",
        "        \"\"\"\n",
        "        Initializes the weights and biases of the layer\n",
        "        \"\"\"\n",
        "        sigma_w = np.sqrt(2.0 / (self.n_neurons + self.n_neurons_prev))  # suited for sigmoid activation function\n",
        "        sigma_b = np.sqrt(1.0 / self.n_neurons)\n",
        "        self.weights = self.initializer.initialize_weights(size=(self.n_neurons, self.n_neurons_prev), mu=0.0,\n",
        "                                                           sigma=sigma_w)\n",
        "        self.bias = self.initializer.initialize_bias(size=(self.n_neurons, 1), mu=0.0, sigma=sigma_b)\n",
        "\n",
        "    @abc.abstractmethod\n",
        "    def forward(self, activations_prev: np.ndarray) -> np.ndarray:\n",
        "        \"\"\"\n",
        "        Forward pass of the layer, computes the logits and activations of the layer\n",
        "        :param activations_prev: activations of the previous layer, shape (n_neurons_prev, batch_size)\n",
        "        :return: activations of the layer, shape (n_neurons, batch_size)\n",
        "        \"\"\"\n",
        "        ...\n",
        "\n",
        "    @abc.abstractmethod\n",
        "    def backward(self, grad_activations: np.ndarray) -> np.ndarray:\n",
        "        \"\"\"\n",
        "        Backward pass of the layer, computes the gradient with respect to the activations of the previous layer\n",
        "        :param grad_activations: gradient with respect to the activations of the current layer, shape (n_neurons, batch_size)\n",
        "        \"\"\"\n",
        "        ...\n",
        "\n",
        "    def gradient_weights(self, activations_prev: np.ndarray) -> np.ndarray:\n",
        "        \"\"\"\n",
        "        Gradient of the loss with respect to the weights of the layer\n",
        "        :param activations_prev: activations of the previous layer, shape (n_neurons_prev, batch_size)\n",
        "        :return: gradient of the loss with respect to the weights, shape (n_neurons, n_neurons_prev)\n",
        "        \"\"\"\n",
        "        grad_weights = self.grad_logits.dot(activations_prev.T)\n",
        "        return grad_weights\n",
        "\n",
        "    def gradient_bias(self) -> np.ndarray:\n",
        "        \"\"\"\n",
        "        Gradient of the loss with respect to the bias of the layer\n",
        "        :return: gradient of the loss with respect to the bias, shape (n_neurons, 1)\n",
        "        \"\"\"\n",
        "        grad_bias = self.grad_logits.sum(axis=-1, keepdims=True)\n",
        "        return grad_bias"
      ],
      "outputs": [],
      "execution_count": 18
    },
    {
      "cell_type": "markdown",
      "id": "4f089370-2b5c-40e4-9c81-ae9b1a78bc31",
      "metadata": {
        "id": "4f089370-2b5c-40e4-9c81-ae9b1a78bc31"
      },
      "source": [
        "**Exercise 2: Forward and backward propagation of layers**"
      ]
    },
    {
      "cell_type": "code",
      "id": "ed65e7fe-fdfd-4a2c-a627-3449fed6804a",
      "metadata": {
        "id": "ed65e7fe-fdfd-4a2c-a627-3449fed6804a"
      },
      "source": [
        "class Layer(AbstractLayer):\n",
        "\n",
        "    def forward(self, activations_prev: np.ndarray) -> np.ndarray:\n",
        "        \"\"\"\n",
        "        Forward pass of the layer, computes the logits and activations of the layer\n",
        "        :param activations_prev: activations of the previous layer, shape (n_neurons_prev, batch_size)\n",
        "        :return: activations of the layer, shape (n_neurons, batch_size)\n",
        "        \"\"\"\n",
        "        np.testing.assert_equal(activations_prev.shape[0], self.n_neurons_prev)\n",
        "\n",
        "        ### START YOUR CODE ###\n",
        "        self.logits = np.dot(self.weights, activations_prev) + self.bias\n",
        "        self.activations = self.activation.forward(self.logits)\n",
        "\n",
        "        return self.activations\n",
        "        ### END YOUR CODE ###\n",
        "\n",
        "    def backward(self, grad_activations: np.ndarray) -> np.ndarray:\n",
        "        \"\"\"\n",
        "        Backward pass of the layer, computes the gradient with respect to the activations of the previous layer\n",
        "        :param grad_activations: gradient with respect to the activations of the current layer, shape (n_neurons, batch_size)\n",
        "        \"\"\"\n",
        "        n_samples = self.logits.shape[1]\n",
        "        np.testing.assert_equal(grad_activations.shape, (self.n_neurons, n_samples))\n",
        "\n",
        "        ### START YOUR CODE ###\n",
        "        # Compute gradient with respect to logits\n",
        "        self.grad_logits = grad_activations * self.activation.backward(self.logits)\n",
        "        np.testing.assert_equal(self.grad_logits.shape, (self.n_neurons, nsamples))\n",
        "\n",
        "        # Compute gradient with respect to previous layer activations\n",
        "        grad_activations_prev = self.weights.T.dot(self.grad_logits)\n",
        "        np.testing.assert_equal(grad_activations_prev.shape, (self.n_neurons_prev, nsamples))\n",
        "\n",
        "        return grad_activations_prev\n",
        "        ### END YOUR CODE ###"
      ],
      "outputs": [],
      "execution_count": 19
    },
    {
      "cell_type": "markdown",
      "id": "5cf20971-b64a-4800-b884-c109a108e2bc",
      "metadata": {
        "id": "5cf20971-b64a-4800-b884-c109a108e2bc"
      },
      "source": [
        "**Click below for the solution**"
      ]
    },
    {
      "cell_type": "code",
      "id": "1aff0de9-3365-4d04-88d8-6f2f4fb2e565",
      "metadata": {
        "id": "1aff0de9-3365-4d04-88d8-6f2f4fb2e565"
      },
      "source": [
        "#@title Solution for Layer forward and backward propagation\n",
        "class Layer(AbstractLayer):\n",
        "\n",
        "    def forward(self, activations_prev: np.ndarray) -> np.ndarray:\n",
        "        \"\"\"\n",
        "        Forward pass of the layer, computes the logits and activations of the layer\n",
        "        :param activations_prev: activations of the previous layer, shape (n_neurons_prev, batch_size)\n",
        "        :return: activations of the layer, shape (n_neurons, batch_size)\n",
        "        \"\"\"\n",
        "        np.testing.assert_equal(activations_prev.shape[0], self.n_neurons_prev)\n",
        "\n",
        "        ### START YOUR CODE ###\n",
        "        self.logits = np.dot(self.weights, activations_prev) + self.bias\n",
        "        self.activations = self.activation.forward(self.logits)\n",
        "\n",
        "        return self.activations\n",
        "        ### END YOUR CODE ###\n",
        "\n",
        "    def backward(self, grad_activations: np.ndarray) -> np.ndarray:\n",
        "        \"\"\"\n",
        "        Backward pass of the layer, computes the gradient with respect to the activations of the previous layer\n",
        "        :param grad_activations: gradient with respect to the activations of the current layer, shape (n_neurons, batch_size)\n",
        "        \"\"\"\n",
        "        nsamples = self.logits.shape[1]\n",
        "        np.testing.assert_equal(grad_activations.shape, (self.n_neurons, nsamples))\n",
        "\n",
        "        # Compute gradient with respect to logits\n",
        "        self.grad_logits = grad_activations * self.activation.backward(self.logits)\n",
        "        np.testing.assert_equal(self.grad_logits.shape, (self.n_neurons, nsamples))\n",
        "\n",
        "        # Compute gradient with respect to previous layer activations\n",
        "        grad_activations_prev = self.weights.T.dot(self.grad_logits)\n",
        "        np.testing.assert_equal(grad_activations_prev.shape, (self.n_neurons_prev, nsamples))\n",
        "\n",
        "        return grad_activations_prev"
      ],
      "outputs": [],
      "execution_count": 20
    },
    {
      "cell_type": "markdown",
      "id": "1b74e244-ed24-4db1-8164-54854689a082",
      "metadata": {
        "id": "1b74e244-ed24-4db1-8164-54854689a082"
      },
      "source": [
        "#### MLP"
      ]
    },
    {
      "cell_type": "code",
      "id": "9efe0dc9-d866-4822-8529-31e7899a8fac",
      "metadata": {
        "id": "9efe0dc9-d866-4822-8529-31e7899a8fac"
      },
      "source": [
        "class AbstractMultiLayerPerceptron(abc.ABC):\n",
        "\n",
        "    def __init__(self,\n",
        "                 neurons_per_layer: list[int],\n",
        "                 activation: AbstractActivationFunction,\n",
        "                 initializer: NormInitializer) -> None:\n",
        "        \"\"\"\n",
        "        Abstract base class for a multi layer perceptron\n",
        "        :param neurons_per_layer: list of integers, number of neurons per layer\n",
        "        :param activation: activation function for the hidden layers\n",
        "        :param initializer: initializer for the weights and biases of the layers\n",
        "        \"\"\"\n",
        "        self.layers = []  # list of layers (instances of class Layer or Softmax or the like); ordered along the forward path.\n",
        "        self.number_layers = -1  # number of layers (excluding input layer, excluding softmax layer)\n",
        "        self.x = None  # input data for one iteration (forward and backward)\n",
        "\n",
        "        self.number_layers = len(neurons_per_layer)\n",
        "\n",
        "        for layer_id in range(1, self.number_layers):\n",
        "            if layer_id != self.number_layers - 1:\n",
        "                layer_act = activation\n",
        "            else:\n",
        "                layer_act = Sigmoid()\n",
        "            n_neurons = neurons_per_layer[layer_id]\n",
        "            n_neurons_prev = neurons_per_layer[layer_id - 1]\n",
        "            self.layers.append(\n",
        "                Layer(\n",
        "                    layer_id, n_neurons, n_neurons_prev,\n",
        "                    layer_act, initializer))\n",
        "\n",
        "    def initialize(self) -> None:\n",
        "        \"\"\"\n",
        "        Initializes the weights and biases of the layers\n",
        "        \"\"\"\n",
        "        for layer in self.layers:\n",
        "            layer.initialize()\n",
        "\n",
        "    def forward(self, x: np.ndarray) -> np.ndarray:\n",
        "        \"\"\"\n",
        "        Forward pass of the MLP\n",
        "        :param x: input data, shape (n_features, batch_size)\n",
        "        :return: output of the MLP, shape (n_classes, batch_size)\n",
        "        \"\"\"\n",
        "        self.x = x\n",
        "        a = self.x\n",
        "\n",
        "        for layer in self.layers:\n",
        "            a = layer.forward(a)\n",
        "\n",
        "        return a\n",
        "\n",
        "    def backward(self, grady: np.ndarray) -> np.ndarray:\n",
        "        \"\"\"\n",
        "        Backward pass of the MLP to compute the gradients\n",
        "        :param grady: gradient of the loss with respect to the output of the MLP, shape (n_classes, batch_size)\n",
        "        :return: gradient of the loss with respect to the input of the MLP, shape (n_features, batch_size)\n",
        "        \"\"\"\n",
        "        grad = grady\n",
        "\n",
        "        for layer in reversed(self.layers):\n",
        "            grad = layer.backward(grad)\n",
        "        return grad\n",
        "\n",
        "    @abc.abstractmethod\n",
        "    def step_params(self, learning_rate: float) -> None:\n",
        "        \"\"\"\n",
        "        Updates the parameters of the MLP\n",
        "        :param learning_rate: learning rate for the parameter update\n",
        "        \"\"\"\n",
        "        ...\n"
      ],
      "outputs": [],
      "execution_count": 21
    },
    {
      "cell_type": "markdown",
      "id": "29aa9266-eabb-40aa-bde7-edf766904aac",
      "metadata": {
        "id": "29aa9266-eabb-40aa-bde7-edf766904aac"
      },
      "source": [
        "**Exercise 3: Implement the parameter update step for the MLP**"
      ]
    },
    {
      "cell_type": "code",
      "id": "2e5bf31e-45ce-4b30-9d00-318ea6d30159",
      "metadata": {
        "id": "2e5bf31e-45ce-4b30-9d00-318ea6d30159"
      },
      "source": [
        "class MultiLayerPerceptron(AbstractMultiLayerPerceptron):\n",
        "    def step_params(self, learning_rate: float) -> None:\n",
        "        \"\"\"\n",
        "        Updates the parameters of the MLP\n",
        "        :param learning_rate: learning rate for the parameter update\n",
        "        \"\"\"\n",
        "        ### START YOUR CODE ###\n",
        "        prev_activations = self.x\n",
        "\n",
        "        for layer in self.layers:\n",
        "            layer.weights -= learning_rate * layer.gradient_weights(prev_activations)\n",
        "            layer.bias -= learning_rate * layer.gradient_bias()\n",
        "\n",
        "            prev_activations = layer.activations\n",
        "        ### END YOUR CODE ###"
      ],
      "outputs": [],
      "execution_count": 22
    },
    {
      "cell_type": "markdown",
      "id": "fcd912ff-073f-4748-8e29-7348da8c325b",
      "metadata": {
        "id": "fcd912ff-073f-4748-8e29-7348da8c325b"
      },
      "source": [
        "**Click below for the solution**"
      ]
    },
    {
      "cell_type": "code",
      "id": "794da1df-7ae1-48de-b54c-1b03c3cb8685",
      "metadata": {
        "jupyter": {
          "source_hidden": true
        },
        "id": "794da1df-7ae1-48de-b54c-1b03c3cb8685"
      },
      "source": [
        "#@title Solution for the parameter update step of the MLP\n",
        "class MultiLayerPerceptron(AbstractMultiLayerPerceptron):\n",
        "    def step_params(self, learning_rate: float) -> None:\n",
        "        \"\"\"\n",
        "        Updates the parameters of the MLP\n",
        "        :param learning_rate: learning rate for the parameter update\n",
        "        \"\"\"\n",
        "        ### START YOUR CODE ###\n",
        "        prev_activations = self.x\n",
        "\n",
        "        for layer in self.layers:\n",
        "            layer.weights -= learning_rate * layer.gradient_weights(prev_activations)\n",
        "            layer.bias -= learning_rate * layer.gradient_bias()\n",
        "\n",
        "            prev_activations = layer.activations\n",
        "        ### END YOUR CODE ###"
      ],
      "outputs": [],
      "execution_count": 23
    },
    {
      "cell_type": "markdown",
      "id": "3de58e74-52cf-4d56-bf45-2947d0fb7ea9",
      "metadata": {
        "id": "3de58e74-52cf-4d56-bf45-2947d0fb7ea9"
      },
      "source": [
        "### Forward Test"
      ]
    },
    {
      "cell_type": "markdown",
      "id": "ebbe3b12-2dd6-4bdb-818c-419294731248",
      "metadata": {
        "id": "ebbe3b12-2dd6-4bdb-818c-419294731248"
      },
      "source": [
        "If your implementation is incorrect, this should throw an AssertionError."
      ]
    },
    {
      "cell_type": "code",
      "id": "024ebc42-8492-4eb5-ba03-28434ef670df",
      "metadata": {
        "id": "024ebc42-8492-4eb5-ba03-28434ef670df"
      },
      "source": [
        "x = np.arange(9).reshape(3, 3).astype(float)\n",
        "layer_sizes = [3, 16, 16, 1]\n",
        "np.random.seed(42)\n",
        "\n",
        "mlp = MultiLayerPerceptron(layer_sizes, Sigmoid(), NormInitializer())\n",
        "for layer_id in range(len(layer_sizes) - 1):\n",
        "    layer = mlp.layers[layer_id]\n",
        "    layer.weights = np.ones(shape=(layer.n_neurons, layer.n_neurons_prev), dtype='float') * 0.1\n",
        "    layer.bias = np.zeros(shape=(layer.n_neurons_prev, 1), dtype='float')\n",
        "\n",
        "mlp.initialize()\n",
        "y = mlp.forward(x)\n",
        "np.testing.assert_equal(y.shape, (1, 3))\n",
        "\n",
        "y_expected = np.array([[0.54265 , 0.541717, 0.540696]])\n",
        "np.testing.assert_array_almost_equal(y, y_expected, decimal=6)"
      ],
      "outputs": [],
      "execution_count": 24
    },
    {
      "cell_type": "markdown",
      "id": "88ff1e89-4e9f-457a-9197-65f029d4a0ef",
      "metadata": {
        "id": "88ff1e89-4e9f-457a-9197-65f029d4a0ef"
      },
      "source": [
        "### Gradient Checking\n",
        "\n",
        "Of course plotting the gradient gives us immediate insights whether our gradient makes sense, but it's hard to tell when the gradient is just slightly off."
      ]
    },
    {
      "cell_type": "code",
      "id": "f90865e775736849",
      "metadata": {
        "id": "f90865e775736849"
      },
      "source": [
        "bce = BinaryCrossEntropy()\n",
        "sigmoid = Sigmoid()"
      ],
      "outputs": [],
      "execution_count": 25
    },
    {
      "metadata": {
        "id": "d4bc104166f2f10d",
        "outputId": "7e0d5c87-d625-40ed-ffe5-61167fca52a2",
        "colab": {
          "base_uri": "https://localhost:8080/",
          "height": 410
        }
      },
      "cell_type": "code",
      "source": [
        "p_values = np.linspace(0.00, 1, 100)\n",
        "values = np.linspace(-10, 10, 100)\n",
        "positive = np.array([[1]])\n",
        "negative = np.array([[0]])\n",
        "\n",
        "bce_y1 = [bce.forward(positive, np.array([[p]])) for p in p_values]\n",
        "bce_grad_1 = [np.mean(bce.backward(positive, np.array([[p]]))) for p in p_values]\n",
        "\n",
        "sig_y1 = [sigmoid.forward(v) for v in values]\n",
        "sig_grad_1 = [sigmoid.backward(v) for v in values]\n",
        "\n",
        "def show_gradient(x: np.ndarray, y, grad: np.ndarray, title: str, idx: int, y_lim=None) :\n",
        "    plt.subplot(1, 3, idx)\n",
        "    plt.plot(x, y, label=\"Y\", color='blue')\n",
        "    plt.plot(x, grad, label=\"Gradient\", color='red')\n",
        "    if y_lim is not None:\n",
        "        plt.ylim(y_lim)\n",
        "    plt.xlabel(\"X\")\n",
        "    plt.ylabel(\"Y\")\n",
        "    plt.title(title)\n",
        "    plt.grid(True)\n",
        "    plt.legend()\n",
        "\n",
        "plt.figure(figsize=(16, 4))\n",
        "show_gradient(p_values, bce_y1, bce_grad_1, title=\"BCE Loss\", idx=1, y_lim=(-10, 10))\n",
        "show_gradient(values, sig_y1, sig_grad_1, title=\"Sigmoid\", idx=2)"
      ],
      "id": "d4bc104166f2f10d",
      "outputs": [
        {
          "output_type": "display_data",
          "data": {
            "text/plain": [
              "<Figure size 1600x400 with 2 Axes>"
            ],
            "image/png": "[encoded data removed]"
          },
          "metadata": {}
        }
      ],
      "execution_count": 26
    },
    {
      "cell_type": "markdown",
      "id": "986d5c868735995",
      "metadata": {
        "id": "986d5c868735995"
      },
      "source": [
        " We can also check the gradient numerically with the finite differences method."
      ]
    },
    {
      "cell_type": "markdown",
      "id": "b52d3a18776c1bd4",
      "metadata": {
        "id": "b52d3a18776c1bd4"
      },
      "source": [
        "Checking the cross-entropy loss gradient"
      ]
    },
    {
      "cell_type": "code",
      "id": "6298d042-5174-454a-b8f5-7cedc5ebed35",
      "metadata": {
        "id": "6298d042-5174-454a-b8f5-7cedc5ebed35",
        "outputId": "4a8c3788-c36a-4c65-88f5-aed005bcf926",
        "colab": {
          "base_uri": "https://localhost:8080/"
        }
      },
      "source": [
        "np.random.seed(42)\n",
        "epsilon = 1e-8\n",
        "tolerance = 1e-7\n",
        "\n",
        "y_pred = np.random.uniform(0.0, 1.0, (1, 16))\n",
        "y_true = (np.random.uniform(0.0, 1.0, (1, 16)) > 0.5).astype(float)\n",
        "\n",
        "loss = bce.forward(y_true, y_pred)\n",
        "grad_analytical = bce.backward(y_true, y_pred)\n",
        "\n",
        "predictions_plus = y_pred + epsilon\n",
        "predictions_minus = y_pred - epsilon\n",
        "\n",
        "loss_plus = bce.forward(y_true, predictions_plus)\n",
        "loss_minus = bce.forward(y_true, predictions_minus)\n",
        "\n",
        "grad_numerical = (loss_plus - loss_minus) / (2 * epsilon)\n",
        "\n",
        "print(f\"Measured Error: {np.mean(grad_analytical) - grad_numerical}\")\n",
        "assert abs(np.mean(grad_analytical) - grad_numerical) < tolerance\n",
        "print(\"Gradient check passed\")"
      ],
      "outputs": [
        {
          "output_type": "stream",
          "name": "stdout",
          "text": [
            "Measured Error: -7.155516235091142e-09\n",
            "Gradient check passed\n"
          ]
        }
      ],
      "execution_count": 27
    },
    {
      "cell_type": "markdown",
      "id": "b47d259a908af8a3",
      "metadata": {
        "id": "b47d259a908af8a3"
      },
      "source": [
        "Checking the Sigmoid gradient"
      ]
    },
    {
      "cell_type": "code",
      "id": "d272850690b992f7",
      "metadata": {
        "id": "d272850690b992f7",
        "outputId": "4762c9d4-2fad-42c1-c773-68c1ec0ca7df",
        "colab": {
          "base_uri": "https://localhost:8080/"
        }
      },
      "source": [
        "np.random.seed(42)\n",
        "epsilon = 1e-8\n",
        "tolerance = 1e-7\n",
        "\n",
        "sigmoid = Sigmoid()\n",
        "y_pred = np.random.uniform(-10, 10.0, (1, 16))\n",
        "\n",
        "loss = sigmoid.forward(y_pred)\n",
        "grad_analytical = sigmoid.backward(y_pred)\n",
        "\n",
        "predictions_plus = y_pred + epsilon\n",
        "predictions_minus = y_pred - epsilon\n",
        "\n",
        "loss_plus = sigmoid.forward(predictions_plus)\n",
        "loss_minus = sigmoid.forward(predictions_minus)\n",
        "\n",
        "grad_numerical = (loss_plus - loss_minus) / (2 * epsilon)\n",
        "\n",
        "print(f\"Measured Error: {grad_analytical - grad_numerical}\")\n",
        "assert abs(np.mean(grad_analytical - grad_numerical)) < tolerance\n",
        "print(\"Gradient check passed\")"
      ],
      "outputs": [
        {
          "output_type": "stream",
          "name": "stdout",
          "text": [
            "Measured Error: [[-2.13093071e-10 -1.18926436e-08 -1.03649139e-08 -8.79888523e-11\n",
            "   6.25263079e-12  3.55093472e-12 -1.05924403e-11  7.45136706e-09\n",
            "   1.71717753e-09 -4.10746829e-09 -5.15359940e-12  9.22051539e-09\n",
            "  -3.55145578e-09  3.27058719e-11  5.38106018e-13  3.69823334e-12]]\n",
            "Gradient check passed\n"
          ]
        }
      ],
      "execution_count": 28
    },
    {
      "cell_type": "code",
      "id": "0e99103e-742c-4a63-9fc1-1239646ef00e",
      "metadata": {
        "id": "0e99103e-742c-4a63-9fc1-1239646ef00e",
        "outputId": "022a4140-bd76-46bc-eba1-988d539ce1c2",
        "colab": {
          "base_uri": "https://localhost:8080/"
        }
      },
      "source": [
        "tolerance = 3e-7\n",
        "epsilon = 1e-8\n",
        "np.random.seed(41)\n",
        "\n",
        "layer_sizes = [16, 16, 1]\n",
        "mlp_0 = MultiLayerPerceptron(neurons_per_layer=layer_sizes, initializer=NormInitializer(), activation=Sigmoid())\n",
        "mlp_1 = MultiLayerPerceptron(neurons_per_layer=layer_sizes, initializer=NormInitializer(), activation=Sigmoid())\n",
        "mlp_0.initialize()\n",
        "mlp_1.initialize()\n",
        "\n",
        "for layer_id in range(len(layer_sizes) - 1):\n",
        "    mlp_1.layers[layer_id].weights = mlp_0.layers[layer_id].weights.copy()\n",
        "    mlp_1.layers[layer_id].bias = mlp_0.layers[layer_id].bias.copy()\n",
        "\n",
        "batch_size = 16\n",
        "x = np.random.uniform(-0.5, 0.5, size=(layer_sizes[0], batch_size))\n",
        "y = np.random.uniform(0, 1, size=(1, batch_size))\n",
        "\n",
        "probs = mlp_0.forward(x)\n",
        "grad = bce.backward(y, probs)\n",
        "mlp_0.backward(grad)\n",
        "\n",
        "for layer_id in range(len(layer_sizes) - 1):\n",
        "    print(\"Testing layer with id %s\" % layer_id)\n",
        "    if layer_id == 0:\n",
        "        activations_prev = x\n",
        "    else:\n",
        "        activations_prev = mlp_0.layers[layer_id - 1].activations\n",
        "    for i in range(layer_sizes[layer_id + 1]):\n",
        "        for j in range(layer_sizes[layer_id]):\n",
        "            mlp_1.layers[layer_id].weights[i, j] += epsilon\n",
        "            probs_plus = mlp_1.forward(x)\n",
        "\n",
        "            mlp_1.layers[layer_id].weights[i, j] -= 2 * epsilon\n",
        "            probs_minus = mlp_1.forward(x)\n",
        "\n",
        "            loss_plus = bce.forward(y, probs_plus)\n",
        "            loss_minus = bce.forward(y, probs_minus)\n",
        "\n",
        "            numeric_gradient = (loss_plus - loss_minus) / (2 * epsilon)\n",
        "            analytic_gradient = mlp_0.layers[layer_id].gradient_weights(activations_prev)[i, j] / batch_size\n",
        "            d = np.abs(numeric_gradient - analytic_gradient)\n",
        "\n",
        "            assert d <= tolerance, f\"Gradient check failed for layer {layer_id}, parameter index {i, j}: {d} > {tolerance}\"\n",
        "\n",
        "            mlp_1.layers[layer_id].weights[i, j] += epsilon\n"
      ],
      "outputs": [
        {
          "output_type": "stream",
          "name": "stdout",
          "text": [
            "Testing layer with id 0\n",
            "Testing layer with id 1\n"
          ]
        }
      ],
      "execution_count": 29
    },
    {
      "cell_type": "markdown",
      "id": "2f96baae-43a8-4238-a014-0988a90912f6",
      "metadata": {
        "id": "2f96baae-43a8-4238-a014-0988a90912f6"
      },
      "source": [
        "### Training"
      ]
    },
    {
      "cell_type": "markdown",
      "id": "7d4cbb8e6dc44fe2",
      "metadata": {
        "id": "7d4cbb8e6dc44fe2"
      },
      "source": [
        "Finally, lets prepare the data for training"
      ]
    },
    {
      "cell_type": "markdown",
      "id": "e8401a88a84c67b7",
      "metadata": {
        "id": "e8401a88a84c67b7"
      },
      "source": [
        "Now we can train the model, first we have to define the hyperparameters"
      ]
    },
    {
      "cell_type": "code",
      "id": "b195ea866f7e5566",
      "metadata": {
        "id": "b195ea866f7e5566",
        "outputId": "ba28a317-27af-4ded-bbb8-3706478497da",
        "colab": {
          "base_uri": "https://localhost:8080/"
        }
      },
      "source": [
        "x_shape = x_train[:, 0].shape[0]\n",
        "learning_rate = 5e-3\n",
        "batch_size = 16\n",
        "batches = int(np.ceil(x_train.shape[0] / batch_size))\n",
        "epochs = 100\n",
        "layer_sizes = [x_shape, 128, 128, 1]\n",
        "layer_sizes"
      ],
      "outputs": [
        {
          "output_type": "execute_result",
          "data": {
            "text/plain": [
              "[30, 128, 128, 1]"
            ]
          },
          "metadata": {},
          "execution_count": 30
        }
      ],
      "execution_count": 30
    },
    {
      "cell_type": "code",
      "id": "7e296bfd-a10d-4190-9c1c-302f8b4ed8d1",
      "metadata": {
        "id": "7e296bfd-a10d-4190-9c1c-302f8b4ed8d1"
      },
      "source": [
        "mlp = MultiLayerPerceptron(layer_sizes, ReLU(), NormInitializer())\n",
        "mlp.initialize()\n",
        "bce = BinaryCrossEntropy()"
      ],
      "outputs": [],
      "execution_count": 31
    },
    {
      "cell_type": "markdown",
      "id": "87a6d119a84d2f54",
      "metadata": {
        "id": "87a6d119a84d2f54"
      },
      "source": [
        "**Exercise 4: Implement the training step**"
      ]
    },
    {
      "cell_type": "code",
      "id": "7610dc69b55d00b5",
      "metadata": {
        "id": "7610dc69b55d00b5"
      },
      "source": [
        "def training_step(mlp: MultiLayerPerceptron,\n",
        "                  loss: BinaryCrossEntropy,\n",
        "                  x_batch: np.ndarray,\n",
        "                  y_batch: np.ndarray) -> float:\n",
        "    \"\"\"\n",
        "    Trains the network for one batch of data\n",
        "    :param mlp: the multi-layer perceptron instance\n",
        "    :param loss: the loss function instance\n",
        "    :param x_batch: the input data\n",
        "    :param y_batch: the labels\n",
        "    :return:\n",
        "    \"\"\"\n",
        "    ### START YOUR CODE ###\n",
        "    probs = mlp.forward(x_batch)\n",
        "    grad_loss = loss.backward(y_batch, probs)\n",
        "    mlp.backward(grad_loss)\n",
        "    mlp.step_params(learning_rate)\n",
        "    return bce.forward(y, probs)\n",
        "    ### END YOUR CODE ###"
      ],
      "outputs": [],
      "execution_count": 32
    },
    {
      "cell_type": "markdown",
      "id": "6a62b11c27c20cf9",
      "metadata": {
        "id": "6a62b11c27c20cf9"
      },
      "source": [
        "**Click below for the solution**"
      ]
    },
    {
      "cell_type": "code",
      "id": "926c2ab6de59c29e",
      "metadata": {
        "jupyter": {
          "source_hidden": true
        },
        "id": "926c2ab6de59c29e"
      },
      "source": [
        "#@title Solution for the training step\n",
        "def training_step(mlp: MultiLayerPerceptron,\n",
        "                  loss: BinaryCrossEntropy,\n",
        "                  x_batch: np.ndarray,\n",
        "                  y_batch: np.ndarray) -> float:\n",
        "    \"\"\"\n",
        "    Trains the network for one batch of data\n",
        "    :param mlp: the multi-layer perceptron instance\n",
        "    :param loss: the loss function instance\n",
        "    :param x_batch: the input data\n",
        "    :param y_batch: the labels\n",
        "    :return: the loss for the batch\n",
        "    \"\"\"\n",
        "    ### START YOUR CODE ###\n",
        "    probs = mlp.forward(x_batch)\n",
        "    grad_loss = loss.backward(y_batch, probs)\n",
        "    mlp.backward(grad_loss)\n",
        "    mlp.step_params(learning_rate)\n",
        "    return bce.forward(y, probs)\n",
        "    ### END YOUR CODE ###"
      ],
      "outputs": [],
      "execution_count": 33
    },
    {
      "cell_type": "code",
      "id": "a6d96299bcec95e1",
      "metadata": {
        "id": "a6d96299bcec95e1",
        "outputId": "af8cc36b-310d-43c4-c5c7-e5271aa8c16c",
        "colab": {
          "base_uri": "https://localhost:8080/"
        }
      },
      "source": [
        "x_train.shape, y_train.shape"
      ],
      "outputs": [
        {
          "output_type": "execute_result",
          "data": {
            "text/plain": [
              "((30, 398), (1, 398))"
            ]
          },
          "metadata": {},
          "execution_count": 34
        }
      ],
      "execution_count": 34
    },
    {
      "cell_type": "markdown",
      "id": "713a03ba0df93d57",
      "metadata": {
        "id": "713a03ba0df93d57"
      },
      "source": [
        "Now we write out the training loop. We will store the training and validation losses for each epoch and plot them afterwards."
      ]
    },
    {
      "cell_type": "code",
      "id": "4e815786-5267-4bc7-bade-ba04f5e27da2",
      "metadata": {
        "id": "4e815786-5267-4bc7-bade-ba04f5e27da2",
        "outputId": "9b25d459-68be-4385-e48d-fd63cfd93fdd",
        "colab": {
          "base_uri": "https://localhost:8080/",
          "height": 49,
          "referenced_widgets": [
            "61aafbe4ef0c4f088b6b44a55e5a6c3f",
            "f7467558010f40b5a588eb6e97b688ad",
            "16fbc8569a514088a0466b64ea8d05e3",
            "cf1128bb4ca5476497659646b9dc9eb1",
            "6e4078c27c454f2cb3e6fa15d1580465",
            "616f18214d844cea9ae85fc16a60999b",
            "1011929297d443348c208430dfa0a85d",
            "c556fd10220148458d50d9353e44c888",
            "962eb3fcdcbb493cb27aa6cda1c9cc88",
            "06876dabae27420a95a878fa3dd55120",
            "555e38acdec14f94a09a9ab1e8012327"
          ]
        }
      },
      "source": [
        "np.random.seed(42)\n",
        "train_losses = []\n",
        "val_losses = []\n",
        "\n",
        "# loop over the epochs and the mini-batches, update the parameters and fill the values for the learning curves\n",
        "start = timer()\n",
        "mlp.initialize()\n",
        "\n",
        "progress = tqdm(range(epochs), desc=\"Training MLP\")\n",
        "for epoch in progress:\n",
        "\n",
        "    epoch_losses = []\n",
        "    for batch in range(batches):\n",
        "        batch_start, batch_end = batch * batch_size, (batch + 1) * batch_size\n",
        "        batch_end = min(batch_end, x_train.shape[1])\n",
        "        if batch_end - batch_start < 1:\n",
        "            continue\n",
        "        x = x_train[:, batch_start:batch_end]\n",
        "        y = y_train[:, batch_start:batch_end]\n",
        "\n",
        "        loss = training_step(mlp, bce, x, y)\n",
        "        epoch_losses.append(loss)\n",
        "\n",
        "    train_losses.append(np.mean(epoch_losses))\n",
        "    pred_probs = mlp.forward(x_val)\n",
        "    val_loss = bce.forward(y_val, pred_probs)\n",
        "    val_losses.append(val_loss)\n",
        "    progress.set_postfix(epoch=epoch, train_loss=train_losses[-1], val_loss=val_losses[-1], refresh=True)"
      ],
      "outputs": [
        {
          "output_type": "display_data",
          "data": {
            "text/plain": [
              "Training MLP:   0%|          | 0/100 [00:00<?, ?it/s]"
            ],
            "application/vnd.jupyter.widget-view+json": {
              "version_major": 2,
              "version_minor": 0,
              "model_id": "61aafbe4ef0c4f088b6b44a55e5a6c3f"
            }
          },
          "metadata": {}
        }
      ],
      "execution_count": 35
    },
    {
      "cell_type": "markdown",
      "id": "308a6430fefe30d9",
      "metadata": {
        "id": "308a6430fefe30d9"
      },
      "source": [
        "The validation curve"
      ]
    },
    {
      "cell_type": "code",
      "id": "222cbdf7b93c6c1b",
      "metadata": {
        "id": "222cbdf7b93c6c1b",
        "outputId": "ac67e322-7471-43d5-cdd0-2cb688b9d29a",
        "colab": {
          "base_uri": "https://localhost:8080/",
          "height": 468
        }
      },
      "source": [
        "plot_training_curve(train_losses, val_losses)"
      ],
      "outputs": [
        {
          "output_type": "display_data",
          "data": {
            "text/plain": [
              "<Figure size 500x500 with 1 Axes>"
            ],
            "image/png": "[encoded data removed]"
          },
          "metadata": {}
        }
      ],
      "execution_count": 36
    },
    {
      "cell_type": "code",
      "id": "3198c6d7a667ec1f",
      "metadata": {
        "id": "3198c6d7a667ec1f"
      },
      "source": [
        "def predict(mlp: MultiLayerPerceptron, inference_data: np.ndarray) -> np.ndarray:\n",
        "    pred: np.ndarray = mlp.forward(inference_data)\n",
        "    return (pred > 0.5).astype(int)"
      ],
      "outputs": [],
      "execution_count": 37
    },
    {
      "cell_type": "code",
      "id": "f632ee18289e9759",
      "metadata": {
        "id": "f632ee18289e9759"
      },
      "source": [
        "y_pred = predict(mlp, x_test)"
      ],
      "outputs": [],
      "execution_count": 38
    },
    {
      "cell_type": "markdown",
      "id": "f9b82947a664e513",
      "metadata": {
        "id": "f9b82947a664e513"
      },
      "source": [
        "Let's look at the performance on the test data, we can use scikit-learns built in utilities for this."
      ]
    },
    {
      "cell_type": "code",
      "id": "9e74e0454c3071f8",
      "metadata": {
        "id": "9e74e0454c3071f8",
        "outputId": "0354b9ab-ead0-4f23-bfec-31c153125c5d",
        "colab": {
          "base_uri": "https://localhost:8080/",
          "height": 192
        }
      },
      "source": [
        "report = classification_report(\n",
        "    y_test.flatten(),\n",
        "    y_pred.flatten(),\n",
        "    target_names=list(labels.values()),\n",
        "    zero_division=0,\n",
        "    output_dict=True\n",
        ")\n",
        "\n",
        "print(f\"Accuracy: {report['accuracy']}\")\n",
        "metrics = {k: v for k, v in report.items() if k not in ['accuracy']}\n",
        "df_report = pd.DataFrame(metrics).transpose()\n",
        "df_report = df_report[['precision', 'recall', 'f1-score', 'support']].round(4)\n",
        "df_report"
      ],
      "outputs": [
        {
          "output_type": "stream",
          "name": "stdout",
          "text": [
            "Accuracy: 0.9069767441860465\n"
          ]
        },
        {
          "output_type": "execute_result",
          "data": {
            "text/plain": [
              "              precision  recall  f1-score  support\n",
              "Benign           0.9286  0.8125    0.8667     32.0\n",
              "Malignant        0.8966  0.9630    0.9286     54.0\n",
              "macro avg        0.9126  0.8877    0.8976     86.0\n",
              "weighted avg     0.9085  0.9070    0.9055     86.0"
            ],
            "text/html": [
              "\n",
              "  <div id=\"df-4f6b934a-fcc2-49d6-87e1-5c1b2030f378\" class=\"colab-df-container\">\n",
              "    <div>\n",
              "<style scoped>\n",
              "    .dataframe tbody tr th:only-of-type {\n",
              "        vertical-align: middle;\n",
              "    }\n",
              "\n",
              "    .dataframe tbody tr th {\n",
              "        vertical-align: top;\n",
              "    }\n",
              "\n",
              "    .dataframe thead th {\n",
              "        text-align: right;\n",
              "    }\n",
              "</style>\n",
              "<table border=\"1\" class=\"dataframe\">\n",
              "  <thead>\n",
              "    <tr style=\"text-align: right;\">\n",
              "      <th></th>\n",
              "      <th>precision</th>\n",
              "      <th>recall</th>\n",
              "      <th>f1-score</th>\n",
              "      <th>support</th>\n",
              "    </tr>\n",
              "  </thead>\n",
              "  <tbody>\n",
              "    <tr>\n",
              "      <th>Benign</th>\n",
              "      <td>0.9286</td>\n",
              "      <td>0.8125</td>\n",
              "      <td>0.8667</td>\n",
              "      <td>32.0</td>\n",
              "    </tr>\n",
              "    <tr>\n",
              "      <th>Malignant</th>\n",
              "      <td>0.8966</td>\n",
              "      <td>0.9630</td>\n",
              "      <td>0.9286</td>\n",
              "      <td>54.0</td>\n",
              "    </tr>\n",
              "    <tr>\n",
              "      <th>macro avg</th>\n",
              "      <td>0.9126</td>\n",
              "      <td>0.8877</td>\n",
              "      <td>0.8976</td>\n",
              "      <td>86.0</td>\n",
              "    </tr>\n",
              "    <tr>\n",
              "      <th>weighted avg</th>\n",
              "      <td>0.9085</td>\n",
              "      <td>0.9070</td>\n",
              "      <td>0.9055</td>\n",
              "      <td>86.0</td>\n",
              "    </tr>\n",
              "  </tbody>\n",
              "</table>\n",
              "</div>\n",
              "    <div class=\"colab-df-buttons\">\n",
              "\n",
              "  <div class=\"colab-df-container\">\n",
              "    <button class=\"colab-df-convert\" onclick=\"convertToInteractive('df-4f6b934a-fcc2-49d6-87e1-5c1b2030f378')\"\n",
              "            title=\"Convert this dataframe to an interactive table.\"\n",
              "            style=\"display:none;\">\n",
              "\n",
              "  <svg xmlns=\"http://www.w3.org/2000/svg\" height=\"24px\" viewBox=\"0 -960 960 960\">\n",
              "    <path d=\"M120-120v-720h720v720H120Zm60-500h600v-160H180v160Zm220 220h160v-160H400v160Zm0 220h160v-160H400v160ZM180-400h160v-160H180v160Zm440 0h160v-160H620v160ZM180-180h160v-160H180v160Zm440 0h160v-160H620v160Z\"/>\n",
              "  </svg>\n",
              "    </button>\n",
              "\n",
              "  <style>\n",
              "    .colab-df-container {\n",
              "      display:flex;\n",
              "      gap: 12px;\n",
              "    }\n",
              "\n",
              "    .colab-df-convert {\n",
              "      background-color: #E8F0FE;\n",
              "      border: none;\n",
              "      border-radius: 50%;\n",
              "      cursor: pointer;\n",
              "      display: none;\n",
              "      fill: #1967D2;\n",
              "      height: 32px;\n",
              "      padding: 0 0 0 0;\n",
              "      width: 32px;\n",
              "    }\n",
              "\n",
              "    .colab-df-convert:hover {\n",
              "      background-color: #E2EBFA;\n",
              "      box-shadow: 0px 1px 2px rgba(60, 64, 67, 0.3), 0px 1px 3px 1px rgba(60, 64, 67, 0.15);\n",
              "      fill: #174EA6;\n",
              "    }\n",
              "\n",
              "    .colab-df-buttons div {\n",
              "      margin-bottom: 4px;\n",
              "    }\n",
              "\n",
              "    [theme=dark] .colab-df-convert {\n",
              "      background-color: #3B4455;\n",
              "      fill: #D2E3FC;\n",
              "    }\n",
              "\n",
              "    [theme=dark] .colab-df-convert:hover {\n",
              "      background-color: #434B5C;\n",
              "      box-shadow: 0px 1px 3px 1px rgba(0, 0, 0, 0.15);\n",
              "      filter: drop-shadow(0px 1px 2px rgba(0, 0, 0, 0.3));\n",
              "      fill: #FFFFFF;\n",
              "    }\n",
              "  </style>\n",
              "\n",
              "    <script>\n",
              "      const buttonEl =\n",
              "        document.querySelector('#df-4f6b934a-fcc2-49d6-87e1-5c1b2030f378 button.colab-df-convert');\n",
              "      buttonEl.style.display =\n",
              "        google.colab.kernel.accessAllowed ? 'block' : 'none';\n",
              "\n",
              "      async function convertToInteractive(key) {\n",
              "        const element = document.querySelector('#df-4f6b934a-fcc2-49d6-87e1-5c1b2030f378');\n",
              "        const dataTable =\n",
              "          await google.colab.kernel.invokeFunction('convertToInteractive',\n",
              "                                                    [key], {});\n",
              "        if (!dataTable) return;\n",
              "\n",
              "        const docLinkHtml = 'Like what you see? Visit the ' +\n",
              "          '<a target=\"_blank\" href=https://colab.research.google.com/notebooks/data_table.ipynb>data table notebook</a>'\n",
              "          + ' to learn more about interactive tables.';\n",
              "        element.innerHTML = '';\n",
              "        dataTable['output_type'] = 'display_data';\n",
              "        await google.colab.output.renderOutput(dataTable, element);\n",
              "        const docLink = document.createElement('div');\n",
              "        docLink.innerHTML = docLinkHtml;\n",
              "        element.appendChild(docLink);\n",
              "      }\n",
              "    </script>\n",
              "  </div>\n",
              "\n",
              "\n",
              "    <div id=\"df-e52d2899-db81-4c69-a69d-af150e3dbe42\">\n",
              "      <button class=\"colab-df-quickchart\" onclick=\"quickchart('df-e52d2899-db81-4c69-a69d-af150e3dbe42')\"\n",
              "                title=\"Suggest charts\"\n",
              "                style=\"display:none;\">\n",
              "\n",
              "<svg xmlns=\"http://www.w3.org/2000/svg\" height=\"24px\"viewBox=\"0 0 24 24\"\n",
              "     width=\"24px\">\n",
              "    <g>\n",
              "        <path d=\"M19 3H5c-1.1 0-2 .9-2 2v14c0 1.1.9 2 2 2h14c1.1 0 2-.9 2-2V5c0-1.1-.9-2-2-2zM9 17H7v-7h2v7zm4 0h-2V7h2v10zm4 0h-2v-4h2v4z\"/>\n",
              "    </g>\n",
              "</svg>\n",
              "      </button>\n",
              "\n",
              "<style>\n",
              "  .colab-df-quickchart {\n",
              "      --bg-color: #E8F0FE;\n",
              "      --fill-color: #1967D2;\n",
              "      --hover-bg-color: #E2EBFA;\n",
              "      --hover-fill-color: #174EA6;\n",
              "      --disabled-fill-color: #AAA;\n",
              "      --disabled-bg-color: #DDD;\n",
              "  }\n",
              "\n",
              "  [theme=dark] .colab-df-quickchart {\n",
              "      --bg-color: #3B4455;\n",
              "      --fill-color: #D2E3FC;\n",
              "      --hover-bg-color: #434B5C;\n",
              "      --hover-fill-color: #FFFFFF;\n",
              "      --disabled-bg-color: #3B4455;\n",
              "      --disabled-fill-color: #666;\n",
              "  }\n",
              "\n",
              "  .colab-df-quickchart {\n",
              "    background-color: var(--bg-color);\n",
              "    border: none;\n",
              "    border-radius: 50%;\n",
              "    cursor: pointer;\n",
              "    display: none;\n",
              "    fill: var(--fill-color);\n",
              "    height: 32px;\n",
              "    padding: 0;\n",
              "    width: 32px;\n",
              "  }\n",
              "\n",
              "  .colab-df-quickchart:hover {\n",
              "    background-color: var(--hover-bg-color);\n",
              "    box-shadow: 0 1px 2px rgba(60, 64, 67, 0.3), 0 1px 3px 1px rgba(60, 64, 67, 0.15);\n",
              "    fill: var(--button-hover-fill-color);\n",
              "  }\n",
              "\n",
              "  .colab-df-quickchart-complete:disabled,\n",
              "  .colab-df-quickchart-complete:disabled:hover {\n",
              "    background-color: var(--disabled-bg-color);\n",
              "    fill: var(--disabled-fill-color);\n",
              "    box-shadow: none;\n",
              "  }\n",
              "\n",
              "  .colab-df-spinner {\n",
              "    border: 2px solid var(--fill-color);\n",
              "    border-color: transparent;\n",
              "    border-bottom-color: var(--fill-color);\n",
              "    animation:\n",
              "      spin 1s steps(1) infinite;\n",
              "  }\n",
              "\n",
              "  @keyframes spin {\n",
              "    0% {\n",
              "      border-color: transparent;\n",
              "      border-bottom-color: var(--fill-color);\n",
              "      border-left-color: var(--fill-color);\n",
              "    }\n",
              "    20% {\n",
              "      border-color: transparent;\n",
              "      border-left-color: var(--fill-color);\n",
              "      border-top-color: var(--fill-color);\n",
              "    }\n",
              "    30% {\n",
              "      border-color: transparent;\n",
              "      border-left-color: var(--fill-color);\n",
              "      border-top-color: var(--fill-color);\n",
              "      border-right-color: var(--fill-color);\n",
              "    }\n",
              "    40% {\n",
              "      border-color: transparent;\n",
              "      border-right-color: var(--fill-color);\n",
              "      border-top-color: var(--fill-color);\n",
              "    }\n",
              "    60% {\n",
              "      border-color: transparent;\n",
              "      border-right-color: var(--fill-color);\n",
              "    }\n",
              "    80% {\n",
              "      border-color: transparent;\n",
              "      border-right-color: var(--fill-color);\n",
              "      border-bottom-color: var(--fill-color);\n",
              "    }\n",
              "    90% {\n",
              "      border-color: transparent;\n",
              "      border-bottom-color: var(--fill-color);\n",
              "    }\n",
              "  }\n",
              "</style>\n",
              "\n",
              "      <script>\n",
              "        async function quickchart(key) {\n",
              "          const quickchartButtonEl =\n",
              "            document.querySelector('#' + key + ' button');\n",
              "          quickchartButtonEl.disabled = true;  // To prevent multiple clicks.\n",
              "          quickchartButtonEl.classList.add('colab-df-spinner');\n",
              "          try {\n",
              "            const charts = await google.colab.kernel.invokeFunction(\n",
              "                'suggestCharts', [key], {});\n",
              "          } catch (error) {\n",
              "            console.error('Error during call to suggestCharts:', error);\n",
              "          }\n",
              "          quickchartButtonEl.classList.remove('colab-df-spinner');\n",
              "          quickchartButtonEl.classList.add('colab-df-quickchart-complete');\n",
              "        }\n",
              "        (() => {\n",
              "          let quickchartButtonEl =\n",
              "            document.querySelector('#df-e52d2899-db81-4c69-a69d-af150e3dbe42 button');\n",
              "          quickchartButtonEl.style.display =\n",
              "            google.colab.kernel.accessAllowed ? 'block' : 'none';\n",
              "        })();\n",
              "      </script>\n",
              "    </div>\n",
              "\n",
              "  <div id=\"id_9a0e1a41-ce04-4d4c-8021-ebfbd081e912\">\n",
              "    <style>\n",
              "      .colab-df-generate {\n",
              "        background-color: #E8F0FE;\n",
              "        border: none;\n",
              "        border-radius: 50%;\n",
              "        cursor: pointer;\n",
              "        display: none;\n",
              "        fill: #1967D2;\n",
              "        height: 32px;\n",
              "        padding: 0 0 0 0;\n",
              "        width: 32px;\n",
              "      }\n",
              "\n",
              "      .colab-df-generate:hover {\n",
              "        background-color: #E2EBFA;\n",
              "        box-shadow: 0px 1px 2px rgba(60, 64, 67, 0.3), 0px 1px 3px 1px rgba(60, 64, 67, 0.15);\n",
              "        fill: #174EA6;\n",
              "      }\n",
              "\n",
              "      [theme=dark] .colab-df-generate {\n",
              "        background-color: #3B4455;\n",
              "        fill: #D2E3FC;\n",
              "      }\n",
              "\n",
              "      [theme=dark] .colab-df-generate:hover {\n",
              "        background-color: #434B5C;\n",
              "        box-shadow: 0px 1px 3px 1px rgba(0, 0, 0, 0.15);\n",
              "        filter: drop-shadow(0px 1px 2px rgba(0, 0, 0, 0.3));\n",
              "        fill: #FFFFFF;\n",
              "      }\n",
              "    </style>\n",
              "    <button class=\"colab-df-generate\" onclick=\"generateWithVariable('df_report')\"\n",
              "            title=\"Generate code using this dataframe.\"\n",
              "            style=\"display:none;\">\n",
              "\n",
              "  <svg xmlns=\"http://www.w3.org/2000/svg\" height=\"24px\"viewBox=\"0 0 24 24\"\n",
              "       width=\"24px\">\n",
              "    <path d=\"M7,19H8.4L18.45,9,17,7.55,7,17.6ZM5,21V16.75L18.45,3.32a2,2,0,0,1,2.83,0l1.4,1.43a1.91,1.91,0,0,1,.58,1.4,1.91,1.91,0,0,1-.58,1.4L9.25,21ZM18.45,9,17,7.55Zm-12,3A5.31,5.31,0,0,0,4.9,8.1,5.31,5.31,0,0,0,1,6.5,5.31,5.31,0,0,0,4.9,4.9,5.31,5.31,0,0,0,6.5,1,5.31,5.31,0,0,0,8.1,4.9,5.31,5.31,0,0,0,12,6.5,5.46,5.46,0,0,0,6.5,12Z\"/>\n",
              "  </svg>\n",
              "    </button>\n",
              "    <script>\n",
              "      (() => {\n",
              "      const buttonEl =\n",
              "        document.querySelector('#id_9a0e1a41-ce04-4d4c-8021-ebfbd081e912 button.colab-df-generate');\n",
              "      buttonEl.style.display =\n",
              "        google.colab.kernel.accessAllowed ? 'block' : 'none';\n",
              "\n",
              "      buttonEl.onclick = () => {\n",
              "        google.colab.notebook.generateWithVariable('df_report');\n",
              "      }\n",
              "      })();\n",
              "    </script>\n",
              "  </div>\n",
              "\n",
              "    </div>\n",
              "  </div>\n"
            ],
            "application/vnd.google.colaboratory.intrinsic+json": {
              "type": "dataframe",
              "variable_name": "df_report",
              "summary": "{\n  \"name\": \"df_report\",\n  \"rows\": 4,\n  \"fields\": [\n    {\n      \"column\": \"precision\",\n      \"properties\": {\n        \"dtype\": \"number\",\n        \"std\": 0.013223810595538146,\n        \"min\": 0.8966,\n        \"max\": 0.9286,\n        \"num_unique_values\": 4,\n        \"samples\": [\n          0.8966,\n          0.9085,\n          0.9286\n        ],\n        \"semantic_type\": \"\",\n        \"description\": \"\"\n      }\n    },\n    {\n      \"column\": \"recall\",\n      \"properties\": {\n        \"dtype\": \"number\",\n        \"std\": 0.062191987694021574,\n        \"min\": 0.8125,\n        \"max\": 0.963,\n        \"num_unique_values\": 4,\n        \"samples\": [\n          0.963,\n          0.907,\n          0.8125\n        ],\n        \"semantic_type\": \"\",\n        \"description\": \"\"\n      }\n    },\n    {\n      \"column\": \"f1-score\",\n      \"properties\": {\n        \"dtype\": \"number\",\n        \"std\": 0.02557485744502464,\n        \"min\": 0.8667,\n        \"max\": 0.9286,\n        \"num_unique_values\": 4,\n        \"samples\": [\n          0.9286,\n          0.9055,\n          0.8667\n        ],\n        \"semantic_type\": \"\",\n        \"description\": \"\"\n      }\n    },\n    {\n      \"column\": \"support\",\n      \"properties\": {\n        \"dtype\": \"number\",\n        \"std\": 26.40075756488817,\n        \"min\": 32.0,\n        \"max\": 86.0,\n        \"num_unique_values\": 3,\n        \"samples\": [\n          32.0,\n          54.0,\n          86.0\n        ],\n        \"semantic_type\": \"\",\n        \"description\": \"\"\n      }\n    }\n  ]\n}"
            }
          },
          "metadata": {},
          "execution_count": 39
        }
      ],
      "execution_count": 39
    },
    {
      "cell_type": "markdown",
      "id": "2eac5693891ba91f",
      "metadata": {
        "id": "2eac5693891ba91f"
      },
      "source": [
        "With the confusion matrix, we can see where the errors were made. In total, we only missclassified 8 samples on the test set, pretty good!"
      ]
    },
    {
      "cell_type": "code",
      "id": "403291993040159b",
      "metadata": {
        "id": "403291993040159b",
        "outputId": "1994dea8-5a96-4222-94ae-1cdfa2a0e5a6",
        "colab": {
          "base_uri": "https://localhost:8080/",
          "height": 449
        }
      },
      "source": [
        "matrix = confusion_matrix(y_test.ravel(), y_pred.ravel())\n",
        "\n",
        "ConfusionMatrixDisplay(matrix, display_labels=list(labels.values())).plot(cmap=plt.cm.Blues)\n",
        "tick_marks = np.arange(len(list(labels.values())))\n",
        "plt.xticks(tick_marks, list(labels.values()))\n",
        "_ = plt.yticks(tick_marks, list(labels.values()))"
      ],
      "outputs": [
        {
          "output_type": "display_data",
          "data": {
            "text/plain": [
              "<Figure size 640x480 with 2 Axes>"
            ],
            "image/png": "[encoded data removed]"
          },
          "metadata": {}
        }
      ],
      "execution_count": 40
    }
  ],
  "metadata": {
    "kernelspec": {
      "display_name": "Python 3 (ipykernel)",
      "language": "python",
      "name": "python3"
    },
    "language_info": {
      "codemirror_mode": {
        "name": "ipython",
        "version": 3
      },
      "file_extension": ".py",
      "mimetype": "text/x-python",
      "name": "python",
      "nbconvert_exporter": "python",
      "pygments_lexer": "ipython3",
      "version": "3.12.4"
    },
    "colab": {
      "provenance": []
    },
    "widgets": {
      "application/vnd.jupyter.widget-state+json": {
        "61aafbe4ef0c4f088b6b44a55e5a6c3f": {
          "model_module": "@jupyter-widgets/controls",
          "model_name": "HBoxModel",
          "model_module_version": "1.5.0",
          "state": {
            "_dom_classes": [],
            "_model_module": "@jupyter-widgets/controls",
            "_model_module_version": "1.5.0",
            "_model_name": "HBoxModel",
            "_view_count": null,
            "_view_module": "@jupyter-widgets/controls",
            "_view_module_version": "1.5.0",
            "_view_name": "HBoxView",
            "box_style": "",
            "children": [
              "IPY_MODEL_f7467558010f40b5a588eb6e97b688ad",
              "IPY_MODEL_16fbc8569a514088a0466b64ea8d05e3",
              "IPY_MODEL_cf1128bb4ca5476497659646b9dc9eb1"
            ],
            "layout": "IPY_MODEL_6e4078c27c454f2cb3e6fa15d1580465"
          }
        },
        "f7467558010f40b5a588eb6e97b688ad": {
          "model_module": "@jupyter-widgets/controls",
          "model_name": "HTMLModel",
          "model_module_version": "1.5.0",
          "state": {
            "_dom_classes": [],
            "_model_module": "@jupyter-widgets/controls",
            "_model_module_version": "1.5.0",
            "_model_name": "HTMLModel",
            "_view_count": null,
            "_view_module": "@jupyter-widgets/controls",
            "_view_module_version": "1.5.0",
            "_view_name": "HTMLView",
            "description": "",
            "description_tooltip": null,
            "layout": "IPY_MODEL_616f18214d844cea9ae85fc16a60999b",
            "placeholder": "​",
            "style": "IPY_MODEL_1011929297d443348c208430dfa0a85d",
            "value": "Training MLP: 100%"
          }
        },
        "16fbc8569a514088a0466b64ea8d05e3": {
          "model_module": "@jupyter-widgets/controls",
          "model_name": "FloatProgressModel",
          "model_module_version": "1.5.0",
          "state": {
            "_dom_classes": [],
            "_model_module": "@jupyter-widgets/controls",
            "_model_module_version": "1.5.0",
            "_model_name": "FloatProgressModel",
            "_view_count": null,
            "_view_module": "@jupyter-widgets/controls",
            "_view_module_version": "1.5.0",
            "_view_name": "ProgressView",
            "bar_style": "success",
            "description": "",
            "description_tooltip": null,
            "layout": "IPY_MODEL_c556fd10220148458d50d9353e44c888",
            "max": 100,
            "min": 0,
            "orientation": "horizontal",
            "style": "IPY_MODEL_962eb3fcdcbb493cb27aa6cda1c9cc88",
            "value": 100
          }
        },
        "cf1128bb4ca5476497659646b9dc9eb1": {
          "model_module": "@jupyter-widgets/controls",
          "model_name": "HTMLModel",
          "model_module_version": "1.5.0",
          "state": {
            "_dom_classes": [],
            "_model_module": "@jupyter-widgets/controls",
            "_model_module_version": "1.5.0",
            "_model_name": "HTMLModel",
            "_view_count": null,
            "_view_module": "@jupyter-widgets/controls",
            "_view_module_version": "1.5.0",
            "_view_name": "HTMLView",
            "description": "",
            "description_tooltip": null,
            "layout": "IPY_MODEL_06876dabae27420a95a878fa3dd55120",
            "placeholder": "​",
            "style": "IPY_MODEL_555e38acdec14f94a09a9ab1e8012327",
            "value": " 100/100 [00:00&lt;00:00, 116.35it/s, epoch=99, train_loss=0.00591, val_loss=0.0999]"
          }
        },
        "6e4078c27c454f2cb3e6fa15d1580465": {
          "model_module": "@jupyter-widgets/base",
          "model_name": "LayoutModel",
          "model_module_version": "1.2.0",
          "state": {
            "_model_module": "@jupyter-widgets/base",
            "_model_module_version": "1.2.0",
            "_model_name": "LayoutModel",
            "_view_count": null,
            "_view_module": "@jupyter-widgets/base",
            "_view_module_version": "1.2.0",
            "_view_name": "LayoutView",
            "align_content": null,
            "align_items": null,
            "align_self": null,
            "border": null,
            "bottom": null,
            "display": null,
            "flex": null,
            "flex_flow": null,
            "grid_area": null,
            "grid_auto_columns": null,
            "grid_auto_flow": null,
            "grid_auto_rows": null,
            "grid_column": null,
            "grid_gap": null,
            "grid_row": null,
            "grid_template_areas": null,
            "grid_template_columns": null,
            "grid_template_rows": null,
            "height": null,
            "justify_content": null,
            "justify_items": null,
            "left": null,
            "margin": null,
            "max_height": null,
            "max_width": null,
            "min_height": null,
            "min_width": null,
            "object_fit": null,
            "object_position": null,
            "order": null,
            "overflow": null,
            "overflow_x": null,
            "overflow_y": null,
            "padding": null,
            "right": null,
            "top": null,
            "visibility": null,
            "width": null
          }
        },
        "616f18214d844cea9ae85fc16a60999b": {
          "model_module": "@jupyter-widgets/base",
          "model_name": "LayoutModel",
          "model_module_version": "1.2.0",
          "state": {
            "_model_module": "@jupyter-widgets/base",
            "_model_module_version": "1.2.0",
            "_model_name": "LayoutModel",
            "_view_count": null,
            "_view_module": "@jupyter-widgets/base",
            "_view_module_version": "1.2.0",
            "_view_name": "LayoutView",
            "align_content": null,
            "align_items": null,
            "align_self": null,
            "border": null,
            "bottom": null,
            "display": null,
            "flex": null,
            "flex_flow": null,
            "grid_area": null,
            "grid_auto_columns": null,
            "grid_auto_flow": null,
            "grid_auto_rows": null,
            "grid_column": null,
            "grid_gap": null,
            "grid_row": null,
            "grid_template_areas": null,
            "grid_template_columns": null,
            "grid_template_rows": null,
            "height": null,
            "justify_content": null,
            "justify_items": null,
            "left": null,
            "margin": null,
            "max_height": null,
            "max_width": null,
            "min_height": null,
            "min_width": null,
            "object_fit": null,
            "object_position": null,
            "order": null,
            "overflow": null,
            "overflow_x": null,
            "overflow_y": null,
            "padding": null,
            "right": null,
            "top": null,
            "visibility": null,
            "width": null
          }
        },
        "1011929297d443348c208430dfa0a85d": {
          "model_module": "@jupyter-widgets/controls",
          "model_name": "DescriptionStyleModel",
          "model_module_version": "1.5.0",
          "state": {
            "_model_module": "@jupyter-widgets/controls",
            "_model_module_version": "1.5.0",
            "_model_name": "DescriptionStyleModel",
            "_view_count": null,
            "_view_module": "@jupyter-widgets/base",
            "_view_module_version": "1.2.0",
            "_view_name": "StyleView",
            "description_width": ""
          }
        },
        "c556fd10220148458d50d9353e44c888": {
          "model_module": "@jupyter-widgets/base",
          "model_name": "LayoutModel",
          "model_module_version": "1.2.0",
          "state": {
            "_model_module": "@jupyter-widgets/base",
            "_model_module_version": "1.2.0",
            "_model_name": "LayoutModel",
            "_view_count": null,
            "_view_module": "@jupyter-widgets/base",
            "_view_module_version": "1.2.0",
            "_view_name": "LayoutView",
            "align_content": null,
            "align_items": null,
            "align_self": null,
            "border": null,
            "bottom": null,
            "display": null,
            "flex": null,
            "flex_flow": null,
            "grid_area": null,
            "grid_auto_columns": null,
            "grid_auto_flow": null,
            "grid_auto_rows": null,
            "grid_column": null,
            "grid_gap": null,
            "grid_row": null,
            "grid_template_areas": null,
            "grid_template_columns": null,
            "grid_template_rows": null,
            "height": null,
            "justify_content": null,
            "justify_items": null,
            "left": null,
            "margin": null,
            "max_height": null,
            "max_width": null,
            "min_height": null,
            "min_width": null,
            "object_fit": null,
            "object_position": null,
            "order": null,
            "overflow": null,
            "overflow_x": null,
            "overflow_y": null,
            "padding": null,
            "right": null,
            "top": null,
            "visibility": null,
            "width": null
          }
        },
        "962eb3fcdcbb493cb27aa6cda1c9cc88": {
          "model_module": "@jupyter-widgets/controls",
          "model_name": "ProgressStyleModel",
          "model_module_version": "1.5.0",
          "state": {
            "_model_module": "@jupyter-widgets/controls",
            "_model_module_version": "1.5.0",
            "_model_name": "ProgressStyleModel",
            "_view_count": null,
            "_view_module": "@jupyter-widgets/base",
            "_view_module_version": "1.2.0",
            "_view_name": "StyleView",
            "bar_color": null,
            "description_width": ""
          }
        },
        "06876dabae27420a95a878fa3dd55120": {
          "model_module": "@jupyter-widgets/base",
          "model_name": "LayoutModel",
          "model_module_version": "1.2.0",
          "state": {
            "_model_module": "@jupyter-widgets/base",
            "_model_module_version": "1.2.0",
            "_model_name": "LayoutModel",
            "_view_count": null,
            "_view_module": "@jupyter-widgets/base",
            "_view_module_version": "1.2.0",
            "_view_name": "LayoutView",
            "align_content": null,
            "align_items": null,
            "align_self": null,
            "border": null,
            "bottom": null,
            "display": null,
            "flex": null,
            "flex_flow": null,
            "grid_area": null,
            "grid_auto_columns": null,
            "grid_auto_flow": null,
            "grid_auto_rows": null,
            "grid_column": null,
            "grid_gap": null,
            "grid_row": null,
            "grid_template_areas": null,
            "grid_template_columns": null,
            "grid_template_rows": null,
            "height": null,
            "justify_content": null,
            "justify_items": null,
            "left": null,
            "margin": null,
            "max_height": null,
            "max_width": null,
            "min_height": null,
            "min_width": null,
            "object_fit": null,
            "object_position": null,
            "order": null,
            "overflow": null,
            "overflow_x": null,
            "overflow_y": null,
            "padding": null,
            "right": null,
            "top": null,
            "visibility": null,
            "width": null
          }
        },
        "555e38acdec14f94a09a9ab1e8012327": {
          "model_module": "@jupyter-widgets/controls",
          "model_name": "DescriptionStyleModel",
          "model_module_version": "1.5.0",
          "state": {
            "_model_module": "@jupyter-widgets/controls",
            "_model_module_version": "1.5.0",
            "_model_name": "DescriptionStyleModel",
            "_view_count": null,
            "_view_module": "@jupyter-widgets/base",
            "_view_module_version": "1.2.0",
            "_view_name": "StyleView",
            "description_width": ""
          }
        }
      }
    }
  },
  "nbformat": 4,
  "nbformat_minor": 5
}